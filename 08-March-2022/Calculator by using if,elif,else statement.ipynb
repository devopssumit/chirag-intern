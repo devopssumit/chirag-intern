{
 "cells": [
  {
   "cell_type": "code",
   "execution_count": 7,
   "id": "f5a0afc3",
   "metadata": {},
   "outputs": [
    {
     "name": "stdout",
     "output_type": "stream",
     "text": [
      "hey! 0\n",
      "hey! 1\n",
      "hey! 2\n",
      "hey! 3\n",
      "hey! 4\n"
     ]
    }
   ],
   "source": [
    "i = 0           #initialization/assigning value\n",
    "while i<=4:     #condition\n",
    "    print(\"hey!\",i)\n",
    "    i=i+1       #increment/decrement"
   ]
  },
  {
   "cell_type": "code",
   "execution_count": 6,
   "id": "0cd7edfb",
   "metadata": {},
   "outputs": [
    {
     "name": "stdout",
     "output_type": "stream",
     "text": [
      "hey! 0\n",
      "hey! 2\n",
      "hey! 4\n"
     ]
    }
   ],
   "source": [
    "i = 0           \n",
    "while i<=4:     \n",
    "    print(\"hey!\",i)\n",
    "    i=i+2      "
   ]
  },
  {
   "cell_type": "code",
   "execution_count": 11,
   "id": "c8f228bd",
   "metadata": {},
   "outputs": [
    {
     "name": "stdout",
     "output_type": "stream",
     "text": [
      "codes rocks rocks rocks rocks\n",
      "codes rocks rocks rocks rocks\n",
      "codes rocks rocks rocks rocks\n",
      "codes rocks rocks rocks rocks\n",
      "codes rocks rocks rocks rocks\n"
     ]
    }
   ],
   "source": [
    "i=1\n",
    "\n",
    "while i<=5:\n",
    "    print(\"codes\",end=\"\")\n",
    "    j=1\n",
    "    while j<=4:\n",
    "        print(\" rocks\",end=\"\")\n",
    "        j=j+1\n",
    "        \n",
    "    i= i+1\n",
    "    print()"
   ]
  },
  {
   "cell_type": "code",
   "execution_count": 32,
   "id": "b8705e40",
   "metadata": {},
   "outputs": [
    {
     "name": "stdout",
     "output_type": "stream",
     "text": [
      "Enter the first number\n",
      "2\n",
      "Enter the 2nd number\n",
      "3\n",
      "What do you want to:*,/,+,-\n",
      "*\n",
      "your result is 6.0\n"
     ]
    }
   ],
   "source": [
    "print('Enter the first number')\n",
    "num1=float(input())\n",
    "print('Enter the 2nd number')\n",
    "num2=float(input())\n",
    "print('What do you want to:*,/,+,-')\n",
    "num3=input()\n",
    "\n",
    "if num3 == '*':\n",
    "    mul=num1*num2\n",
    "    print('your result is',mul)\n",
    "elif num3 == '+':\n",
    "    add=num1+num2\n",
    "    print('your result is',add)\n",
    "elif num3 == '/':\n",
    "    div=num1/num2\n",
    "    print('your result is',div)\n",
    "elif num3 == '-':\n",
    "    sub = num1-num2\n",
    "    print('your result is',sub)\n",
    "    \n",
    "   \n",
    "    \n",
    "    \n",
    "    \n",
    "\n",
    "    \n",
    "\n"
   ]
  },
  {
   "cell_type": "code",
   "execution_count": null,
   "id": "13311f4b",
   "metadata": {},
   "outputs": [],
   "source": []
  }
 ],
 "metadata": {
  "kernelspec": {
   "display_name": "Python 3 (ipykernel)",
   "language": "python",
   "name": "python3"
  },
  "language_info": {
   "codemirror_mode": {
    "name": "ipython",
    "version": 3
   },
   "file_extension": ".py",
   "mimetype": "text/x-python",
   "name": "python",
   "nbconvert_exporter": "python",
   "pygments_lexer": "ipython3",
   "version": "3.10.2"
  }
 },
 "nbformat": 4,
 "nbformat_minor": 5
}
