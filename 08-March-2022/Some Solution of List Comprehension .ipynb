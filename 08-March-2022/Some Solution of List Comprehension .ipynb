{
 "cells": [
  {
   "cell_type": "code",
   "execution_count": 1,
   "id": "d7bad854",
   "metadata": {},
   "outputs": [
    {
     "name": "stdout",
     "output_type": "stream",
     "text": [
      "[3, 3, 6]\n"
     ]
    }
   ],
   "source": [
    "list = [\"abc\",\"aaa\",\"sample\"]\n",
    "newlist = [len(list) for list in list]\n",
    "print(newlist)"
   ]
  },
  {
   "cell_type": "code",
   "execution_count": 2,
   "id": "2c266e0c",
   "metadata": {},
   "outputs": [
    {
     "name": "stdout",
     "output_type": "stream",
     "text": [
      "[3, 3, 11]\n"
     ]
    }
   ],
   "source": [
    "list = [\"ccc\", \"aaa\", \"eeeeeeeuhbe\"]\n",
    "newlist = [len(list) for list in list]\n",
    "print(newlist)"
   ]
  },
  {
   "cell_type": "code",
   "execution_count": 3,
   "id": "6a3a5317",
   "metadata": {},
   "outputs": [
    {
     "name": "stdout",
     "output_type": "stream",
     "text": [
      "{'abcd': 4, 'cdf': 3, 'test': 4}\n"
     ]
    }
   ],
   "source": [
    "List = {\"abcd\", \"cdf\", \"test\"}\n",
    "new_List = {x: len(x) for x in List}\n",
    "print(new_List)"
   ]
  },
  {
   "cell_type": "code",
   "execution_count": 4,
   "id": "28a70445",
   "metadata": {},
   "outputs": [
    {
     "name": "stdout",
     "output_type": "stream",
     "text": [
      "{'naman': 'young', 'chirag': 'young', 'mukesh': 'young', 'bonda': 'old'}\n"
     ]
    }
   ],
   "source": [
    "original_dict = {'naman': 20, 'chirag': 21,'mukesh': 22,  'bonda': 38}\n",
    "\n",
    "new_dict_1 = {k: ('old' if v > 25 else 'young')\n",
    "    for (k, v) in original_dict.items()}\n",
    "print(new_dict_1)"
   ]
  },
  {
   "cell_type": "code",
   "execution_count": null,
   "id": "a8514b37",
   "metadata": {},
   "outputs": [],
   "source": []
  }
 ],
 "metadata": {
  "kernelspec": {
   "display_name": "Python 3 (ipykernel)",
   "language": "python",
   "name": "python3"
  },
  "language_info": {
   "codemirror_mode": {
    "name": "ipython",
    "version": 3
   },
   "file_extension": ".py",
   "mimetype": "text/x-python",
   "name": "python",
   "nbconvert_exporter": "python",
   "pygments_lexer": "ipython3",
   "version": "3.10.2"
  }
 },
 "nbformat": 4,
 "nbformat_minor": 5
}
