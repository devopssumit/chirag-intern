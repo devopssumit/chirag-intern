{
 "cells": [
  {
   "cell_type": "code",
   "execution_count": 1,
   "id": "62770d04",
   "metadata": {},
   "outputs": [],
   "source": [
    "def function_name():\n",
    "    '''\n",
    "    Docstring: Information about the fuction\n",
    "    Input:no input...\n",
    "    Output: Hello ..\n",
    "    '''\n",
    "    print('Hello')"
   ]
  },
  {
   "cell_type": "code",
   "execution_count": 2,
   "id": "5efa7ec1",
   "metadata": {},
   "outputs": [
    {
     "name": "stdout",
     "output_type": "stream",
     "text": [
      "Help on function function_name in module __main__:\n",
      "\n",
      "function_name()\n",
      "    Docstring: Information about the fuction\n",
      "    Input:no input...\n",
      "    Output: Hello ..\n",
      "\n"
     ]
    }
   ],
   "source": [
    "help(function_name)"
   ]
  },
  {
   "cell_type": "code",
   "execution_count": 3,
   "id": "f4de2013",
   "metadata": {},
   "outputs": [
    {
     "name": "stdout",
     "output_type": "stream",
     "text": [
      "<function function_name at 0x00000160DE71C430>\n"
     ]
    }
   ],
   "source": [
    "print(function_name)"
   ]
  },
  {
   "cell_type": "code",
   "execution_count": 10,
   "id": "47002b79",
   "metadata": {},
   "outputs": [
    {
     "name": "stdout",
     "output_type": "stream",
     "text": [
      "hello Name\n"
     ]
    }
   ],
   "source": [
    "\n",
    "def say_hello(name= ' Name'):\n",
    "    print('hello'+name)\n",
    "say_hello()"
   ]
  },
  {
   "cell_type": "code",
   "execution_count": 15,
   "id": "2e1a1681",
   "metadata": {},
   "outputs": [
    {
     "name": "stdout",
     "output_type": "stream",
     "text": [
      "hello chirag\n"
     ]
    }
   ],
   "source": [
    "def say_hello(name = 'Chirag'):\n",
    "    print('hello' + name)\n",
    "result = say_hello(' chirag')"
   ]
  },
  {
   "cell_type": "code",
   "execution_count": 17,
   "id": "897f0966",
   "metadata": {},
   "outputs": [
    {
     "name": "stdout",
     "output_type": "stream",
     "text": [
      "hello Chirag\n"
     ]
    }
   ],
   "source": [
    "def say_hello(name = ' Chirag'):\n",
    "    print('hello' + name)\n",
    "say_hello()"
   ]
  },
  {
   "cell_type": "code",
   "execution_count": 29,
   "id": "126cc0fe",
   "metadata": {},
   "outputs": [
    {
     "data": {
      "text/plain": [
       "50"
      ]
     },
     "execution_count": 29,
     "metadata": {},
     "output_type": "execute_result"
    }
   ],
   "source": [
    "\n",
    "def add(n1,n2):\n",
    "    return n1 + n2 \n",
    "result = add(20,30)\n",
    "result"
   ]
  },
  {
   "cell_type": "code",
   "execution_count": 33,
   "id": "04c5cca2",
   "metadata": {},
   "outputs": [
    {
     "data": {
      "text/plain": [
       "True"
      ]
     },
     "execution_count": 33,
     "metadata": {},
     "output_type": "execute_result"
    }
   ],
   "source": [
    "def dog_check(mystring):\n",
    "    if 'dog' in  mystring.lower():\n",
    "        return True\n",
    "    else:\n",
    "        return False\n",
    "dog_check(\"cat ran away\")\n",
    "dog_check(\"dog ran away\")"
   ]
  },
  {
   "cell_type": "markdown",
   "id": "4dc174ba",
   "metadata": {},
   "source": [
    "# Pig Latin :- pig_latin() [word--> ordway,apple-->appleay]\n",
    "\n",
    "(a,e,i,o,u)--> word + 'ay'\n",
    "consonants --> word[1:] + first_letter + 'ay'\n"
   ]
  },
  {
   "cell_type": "code",
   "execution_count": 49,
   "id": "4ef60e30",
   "metadata": {},
   "outputs": [
    {
     "name": "stdout",
     "output_type": "stream",
     "text": [
      "enter your word:word\n"
     ]
    },
    {
     "data": {
      "text/plain": [
       "'ordway'"
      ]
     },
     "execution_count": 49,
     "metadata": {},
     "output_type": "execute_result"
    }
   ],
   "source": [
    "def pig_latin(word):\n",
    "    first_letter = word[0]\n",
    "    \n",
    "    #Check if vowel\n",
    "    if first_letter in 'aeiou':\n",
    "        pig_word = word + 'ay'\n",
    "    else:\n",
    "        pig_word = word[1:] + first_letter + 'ay'\n",
    "        \n",
    "    return pig_word\n",
    "\n",
    "word = input('enter your word:')\n",
    "pig_latin(word)\n",
    "\n",
    "     "
   ]
  },
  {
   "cell_type": "markdown",
   "id": "66dd215f",
   "metadata": {},
   "source": [
    "Shortcut for run a program is \"Shift + Enter\""
   ]
  },
  {
   "cell_type": "code",
   "execution_count": 52,
   "id": "61b61d26",
   "metadata": {},
   "outputs": [
    {
     "data": {
      "text/plain": [
       "50.0"
      ]
     },
     "execution_count": 52,
     "metadata": {},
     "output_type": "execute_result"
    }
   ],
   "source": [
    "def myfunc(a,b):\n",
    "    return sum((a,b))/2\n",
    "myfunc(40,60)"
   ]
  },
  {
   "cell_type": "code",
   "execution_count": 55,
   "id": "c6187839",
   "metadata": {},
   "outputs": [
    {
     "data": {
      "text/plain": [
       "75.0"
      ]
     },
     "execution_count": 55,
     "metadata": {},
     "output_type": "execute_result"
    }
   ],
   "source": [
    "def myfunc(a,b,c=0,d=0,e=0):\n",
    "    return sum((a,b,c,d,e))/4\n",
    "myfunc(40,60,100,100)"
   ]
  },
  {
   "cell_type": "code",
   "execution_count": 92,
   "id": "7f9ecb07",
   "metadata": {},
   "outputs": [
    {
     "name": "stdout",
     "output_type": "stream",
     "text": [
      "enter your first number: \n",
      "25\n",
      "enter your second number: \n",
      "32.2\n",
      "All your results are in below:\n",
      "\n",
      "\n",
      "addition= 57.2\n",
      "\n",
      "multiplication= 805.0000000000001\n",
      "\n",
      "divide= 0.7763975155279502\n",
      "\n",
      "subtraction= -7.200000000000003\n"
     ]
    }
   ],
   "source": [
    "#Try to calculate all the operation from 2 variables with the help of function :\n",
    "\n",
    "\n",
    "\n",
    "n1 = float(input('enter your first number: \\n'))\n",
    "n2 = float(input('enter your second number: \\n'))\n",
    "\n",
    "print(\"All your results are in below:\\n\")\n",
    "def add():\n",
    "    print('\\naddition=',n1+n2)\n",
    "add()\n",
    "def mul():\n",
    "    print('\\nmultiplication=' ,n1*n2)\n",
    "mul()\n",
    "def div():\n",
    "    print('\\ndivide=',n1/n2)\n",
    "div()\n",
    "def sub():\n",
    "    print('\\nsubtraction=', n1-n2)\n",
    "sub()\n",
    "\n",
    "    \n",
    "      "
   ]
  },
  {
   "cell_type": "markdown",
   "id": "8b7612d8",
   "metadata": {},
   "source": [
    "# HackerRank Task \n",
    "Given an integer,n, perform the following conditional actions:\n",
    "\n",
    "If  n is odd, print Weird\n",
    "If  n is even and in the inclusive range of 2 to 5 , print Not Weird\n",
    "If  n is even and in the inclusive range of 6 to 20, print Weird\n",
    "If  n is even and greater than 20, print Not Weird"
   ]
  },
  {
   "cell_type": "code",
   "execution_count": 102,
   "id": "f5908b91",
   "metadata": {},
   "outputs": [
    {
     "name": "stdout",
     "output_type": "stream",
     "text": [
      "2\n",
      "Not Weird\n"
     ]
    }
   ],
   "source": [
    "#!/bin/python3\n",
    "\n",
    "import math\n",
    "import os\n",
    "import random\n",
    "import re\n",
    "import sys\n",
    "\n",
    "\n",
    "if __name__ == '__main__':\n",
    " n = int(input().strip())\n",
    " \n",
    " \n",
    "    \n",
    "if n%2 != 0:\n",
    "    print('Weird')\n",
    "else:\n",
    "    if n>=2 and n<=5:\n",
    "        print('Not Weird')\n",
    "        \n",
    "    elif n>=6 and n<=20:\n",
    "        print('Weird')\n",
    "        \n",
    "    elif n>20:\n",
    "        print(\"Not Weird\")\n"
   ]
  },
  {
   "cell_type": "code",
   "execution_count": null,
   "id": "836ca6a5",
   "metadata": {},
   "outputs": [],
   "source": []
  },
  {
   "cell_type": "code",
   "execution_count": null,
   "id": "9c5ca5d1",
   "metadata": {},
   "outputs": [],
   "source": []
  }
 ],
 "metadata": {
  "kernelspec": {
   "display_name": "Python 3 (ipykernel)",
   "language": "python",
   "name": "python3"
  },
  "language_info": {
   "codemirror_mode": {
    "name": "ipython",
    "version": 3
   },
   "file_extension": ".py",
   "mimetype": "text/x-python",
   "name": "python",
   "nbconvert_exporter": "python",
   "pygments_lexer": "ipython3",
   "version": "3.10.2"
  }
 },
 "nbformat": 4,
 "nbformat_minor": 5
}
