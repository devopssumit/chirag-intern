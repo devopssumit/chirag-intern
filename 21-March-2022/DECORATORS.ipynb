{
 "cells": [
  {
   "cell_type": "markdown",
   "id": "2420cd1c",
   "metadata": {},
   "source": [
    "# 1. Swapping Two Variables"
   ]
  },
  {
   "cell_type": "code",
   "execution_count": 30,
   "id": "b4537d47",
   "metadata": {},
   "outputs": [
    {
     "name": "stdout",
     "output_type": "stream",
     "text": [
      "4 6\n"
     ]
    }
   ],
   "source": [
    "a = 6\n",
    "b = 4\n",
    "a,b = b,a\n",
    "print(a,b)"
   ]
  },
  {
   "cell_type": "markdown",
   "id": "a926c038",
   "metadata": {},
   "source": [
    "# 2. Multiple Variable Assignments"
   ]
  },
  {
   "cell_type": "code",
   "execution_count": 31,
   "id": "827ef944",
   "metadata": {},
   "outputs": [
    {
     "name": "stdout",
     "output_type": "stream",
     "text": [
      "4 5.5 Hello\n"
     ]
    }
   ],
   "source": [
    "a,b,c = 4,5.5,'Hello' \n",
    "print(a,b,c)"
   ]
  },
  {
   "cell_type": "code",
   "execution_count": 32,
   "id": "0eb76e58",
   "metadata": {},
   "outputs": [
    {
     "name": "stdout",
     "output_type": "stream",
     "text": [
      "1 2 [3, 4, 5]\n"
     ]
    }
   ],
   "source": [
    "a,b,*c = [1,2,3,4,5]\n",
    "print(a,b,c)\n"
   ]
  },
  {
   "cell_type": "markdown",
   "id": "8588e842",
   "metadata": {},
   "source": [
    "# 3. Sum of Even Numbers In a List"
   ]
  },
  {
   "cell_type": "code",
   "execution_count": 33,
   "id": "7bd2b9a5",
   "metadata": {},
   "outputs": [
    {
     "name": "stdout",
     "output_type": "stream",
     "text": [
      "12\n"
     ]
    }
   ],
   "source": [
    "a = [1,2,3,4,5,6]\n",
    "s = sum([num for num in a if num%2 == 0])\n",
    "print(s)"
   ]
  },
  {
   "cell_type": "code",
   "execution_count": 34,
   "id": "73429032",
   "metadata": {},
   "outputs": [
    {
     "ename": "TypeError",
     "evalue": "create_adder.<locals>.adder() missing 1 required positional argument: 'y'",
     "output_type": "error",
     "traceback": [
      "\u001b[1;31m---------------------------------------------------------------------------\u001b[0m",
      "\u001b[1;31mTypeError\u001b[0m                                 Traceback (most recent call last)",
      "Input \u001b[1;32mIn [34]\u001b[0m, in \u001b[0;36m<cell line: 11>\u001b[1;34m()\u001b[0m\n\u001b[0;32m      6\u001b[0m     \u001b[38;5;28;01mreturn\u001b[39;00m adder\n\u001b[0;32m      9\u001b[0m add_b \u001b[38;5;241m=\u001b[39m create_adder(\u001b[38;5;241m1\u001b[39m)\n\u001b[1;32m---> 11\u001b[0m \u001b[43madd_b\u001b[49m\u001b[43m(\u001b[49m\u001b[43m)\u001b[49m\n",
      "\u001b[1;31mTypeError\u001b[0m: create_adder.<locals>.adder() missing 1 required positional argument: 'y'"
     ]
    }
   ],
   "source": [
    "def create_adder(x):\n",
    "    def adder(y):\n",
    "        return x+y\n",
    "#print(adder(15))\n",
    " \n",
    "    return adder\n",
    "\n",
    " \n",
    "add_b = create_adder(1)\n",
    " \n",
    "add_b()\n",
    "\n"
   ]
  },
  {
   "cell_type": "code",
   "execution_count": 37,
   "id": "bf6b46fb",
   "metadata": {},
   "outputs": [
    {
     "data": {
      "text/plain": [
       "[1, 3, 4, 5, 3]"
      ]
     },
     "execution_count": 37,
     "metadata": {},
     "output_type": "execute_result"
    }
   ],
   "source": [
    "myList = [1,3,4,5]\n",
    "myList.append(3)\n",
    "myList"
   ]
  },
  {
   "cell_type": "code",
   "execution_count": 38,
   "id": "841adbde",
   "metadata": {},
   "outputs": [
    {
     "name": "stdout",
     "output_type": "stream",
     "text": [
      "3\n",
      "<function increment at 0x0000019B379835B0>\n"
     ]
    }
   ],
   "source": [
    "def increment(y):\n",
    "    return y+1\n",
    "print(increment(2))\n",
    "print(increment)"
   ]
  },
  {
   "cell_type": "code",
   "execution_count": 35,
   "id": "af345e87",
   "metadata": {},
   "outputs": [
    {
     "ename": "NameError",
     "evalue": "name 'x' is not defined",
     "output_type": "error",
     "traceback": [
      "\u001b[1;31m---------------------------------------------------------------------------\u001b[0m",
      "\u001b[1;31mNameError\u001b[0m                                 Traceback (most recent call last)",
      "Input \u001b[1;32mIn [35]\u001b[0m, in \u001b[0;36m<cell line: 3>\u001b[1;34m()\u001b[0m\n\u001b[0;32m      1\u001b[0m \u001b[38;5;28;01mdef\u001b[39;00m \u001b[38;5;21mincrement\u001b[39m(y):\n\u001b[0;32m      2\u001b[0m     \u001b[38;5;28;01mreturn\u001b[39;00m y\u001b[38;5;241m+\u001b[39mx\n\u001b[1;32m----> 3\u001b[0m \u001b[38;5;28mprint\u001b[39m(\u001b[43mincrement\u001b[49m\u001b[43m(\u001b[49m\u001b[38;5;241;43m2\u001b[39;49m\u001b[43m)\u001b[49m)\n",
      "Input \u001b[1;32mIn [35]\u001b[0m, in \u001b[0;36mincrement\u001b[1;34m(y)\u001b[0m\n\u001b[0;32m      1\u001b[0m \u001b[38;5;28;01mdef\u001b[39;00m \u001b[38;5;21mincrement\u001b[39m(y):\n\u001b[1;32m----> 2\u001b[0m     \u001b[38;5;28;01mreturn\u001b[39;00m y\u001b[38;5;241m+\u001b[39m\u001b[43mx\u001b[49m\n",
      "\u001b[1;31mNameError\u001b[0m: name 'x' is not defined"
     ]
    }
   ],
   "source": [
    "def increment(y):\n",
    "    return y+x\n",
    "print(increment(2))"
   ]
  },
  {
   "cell_type": "code",
   "execution_count": 39,
   "id": "ddb81223",
   "metadata": {},
   "outputs": [
    {
     "name": "stdout",
     "output_type": "stream",
     "text": [
      "15\n"
     ]
    }
   ],
   "source": [
    "def increment_by(x):\n",
    "    def increment(y):\n",
    "        #print(dir())\n",
    "        return y+x\n",
    "        \n",
    "    return increment\n",
    "my_increment = increment_by(5)\n",
    "print(my_increment(10))\n",
    "#print(dir())"
   ]
  },
  {
   "cell_type": "code",
   "execution_count": null,
   "id": "5983e393",
   "metadata": {},
   "outputs": [],
   "source": []
  },
  {
   "cell_type": "code",
   "execution_count": 44,
   "id": "058ae368",
   "metadata": {},
   "outputs": [],
   "source": [
    "# Generator function for the cube of numbers (power of 3)\n",
    "def gencubes(n):\n",
    "    for num in range(n):\n",
    "        yield num**3"
   ]
  },
  {
   "cell_type": "code",
   "execution_count": 45,
   "id": "6d73d313",
   "metadata": {},
   "outputs": [
    {
     "name": "stdout",
     "output_type": "stream",
     "text": [
      "0\n",
      "1\n",
      "8\n",
      "27\n",
      "64\n",
      "125\n",
      "216\n",
      "343\n",
      "512\n",
      "729\n"
     ]
    }
   ],
   "source": [
    "for x in gencubes(10):\n",
    "    print(x)"
   ]
  },
  {
   "cell_type": "code",
   "execution_count": 52,
   "id": "ae59b2f5",
   "metadata": {},
   "outputs": [],
   "source": [
    "def genfibon(n):\n",
    "    \"\"\"\n",
    "    Generate a fibonnaci sequence up to n\n",
    "    \"\"\"\n",
    "    a = 1\n",
    "    b = 1\n",
    "    for i in range(n):\n",
    "        yield a\n",
    "        a,b = b,a+b"
   ]
  },
  {
   "cell_type": "code",
   "execution_count": 54,
   "id": "f92df0a3",
   "metadata": {},
   "outputs": [
    {
     "name": "stdout",
     "output_type": "stream",
     "text": [
      "1\n",
      "1\n",
      "2\n",
      "3\n",
      "5\n",
      "8\n",
      "13\n",
      "21\n",
      "34\n",
      "55\n"
     ]
    }
   ],
   "source": [
    "for num in genfibon(10):\n",
    "    print(num)"
   ]
  },
  {
   "cell_type": "markdown",
   "id": "521c1139",
   "metadata": {},
   "source": [
    "# Decorators\n"
   ]
  },
  {
   "cell_type": "code",
   "execution_count": 56,
   "id": "83a3c473",
   "metadata": {},
   "outputs": [
    {
     "data": {
      "text/plain": [
       "1"
      ]
     },
     "execution_count": 56,
     "metadata": {},
     "output_type": "execute_result"
    }
   ],
   "source": [
    "def func():\n",
    "    return 1\n",
    "func()"
   ]
  },
  {
   "cell_type": "code",
   "execution_count": 60,
   "id": "99523537",
   "metadata": {},
   "outputs": [
    {
     "name": "stdout",
     "output_type": "stream",
     "text": [
      "{'__name__': '__main__', '__doc__': 'Automatically created module for IPython interactive environment', '__package__': None, '__loader__': None, '__spec__': None, '__builtin__': <module 'builtins' (built-in)>, '__builtins__': <module 'builtins' (built-in)>, '_ih': ['', 'def create_adder(x):\\n    def adder(y):\\n        return x+y\\n \\n    return adder\\n \\nadd_15 = create_adder(15)\\n \\nprint(add_15(10))', 'def create_adder(x):\\n    def adder(y):\\n        return x+y\\n \\n    return adder\\n \\nadd_15 = create_adder(15)\\n \\nprint(add_15())', 'def create_adder(x):\\n    def adder(y):\\n        return x+y\\n \\n    return adder\\n \\nadd_15 = create_adder(15)\\n \\nprint(adder(15))', 'def create_adder(x):\\n    def adder(y):\\n        return x+y\\n        print(adder(15))\\n \\n    return adder\\n\\n \\n# add_15 = create_adder(15)\\n \\n# print(adder(15))', 'def create_adder(x):\\n    def adder(y):\\n        return x+y\\n        print(adder(15))\\n \\n    #return adder\\n\\n \\n# add_15 = create_adder(15)\\n \\n# print(adder(15))', 'def create_adder(x):\\n    def adder(y):\\n        return x+y\\n    print(adder(15))\\n \\n    #return adder\\n\\n \\n# add_15 = create_adder(15)\\n \\n# print(adder(15))', '#def create_adder(x):\\n    def adder(y):\\n        return x+y\\n    print(adder(15))\\n \\n    #return adder\\n\\n \\n# add_15 = create_adder(15)\\n \\n# print(adder(15))', '#def create_adder(x):\\ndef adder(y):\\n    return y\\n    print(adder(15))\\n \\n    #return adder\\n\\n \\n# add_15 = create_adder(15)\\n \\n# print(adder(15))', '#def create_adder(x):\\ndef adder(y):\\n    return y\\nprint(adder(15))\\n \\n    #return adder\\n\\n \\n# add_15 = create_adder(15)\\n \\n# print(adder(15))', 'def create_adder(x):\\n    def adder(y):\\n        return x+y\\n#print(adder(15))\\n \\n    return adder\\n\\n \\n# add_15 = create_adder(15)\\n \\nprint(create_adder(15))', 'def create_adder(x):\\n    def adder(y):\\n        return x+y\\n#print(adder(15))\\n \\n    return adder\\n\\n \\nadd_15 = create_adder(15)\\n \\nprint(add_15(15))', 'def create_adder(x):\\n    def add_15(y):\\n        return x+y\\n#print(adder(15))\\n \\n    return adder\\n\\n \\nadd_15 = create_adder(15)\\n \\nprint(add_15(15))', 'def create_adder(x):\\n    def adder(y):\\n        return x+y\\n#print(adder(15))\\n \\n    return adder\\n\\n \\nadd_b = create_adder()\\n \\nprint(add_b(15))', 'def create_adder(x):\\n    def adder(y):\\n        return x+y\\n#print(adder(15))\\n \\n    return adder\\n\\n \\nadd_b = create_adder(1)\\n \\nadd_b(15)', 'def create_adder(x):\\n    def adder(y):\\n        return x+y\\n#print(adder(15))\\n \\n    return adder\\n\\n \\nadd_b = create_adder(1)\\n \\nadd_b', 'def create_adder(x):\\n    def adder(y):\\n        return x+y\\n#print(adder(15))\\n \\n    return adder\\n\\n \\nadd_b = create_adder(1)\\n \\nadd_b()', 'def create_adder(x):\\n    def adder(y):\\n        return x+y\\n#print(adder(15))\\n \\n    return adder\\n\\n \\nadd_b = create_adder(1)\\n \\nadd_b()', 'myList = [1,3,4,5]\\nmyList.append(3)', 'myList = [1,3,4,5]\\nmyList.append(3)\\nmyList', 'def increment(y):\\n    return y+1\\nprint(increment(2))', 'def increment(y):\\n    return y+x\\nprint(increment(2))', 'def increment(y):\\n    return y+x\\nprint(increment(2))', 'def increment_by(x):\\n    def increment(y):\\n        return y+x\\n\\n    return increment\\nprint(increment(2))', 'def increment_by(x):\\n    def increment(y):\\n        return y+x\\n\\n    return increment\\nprint(increment(2))', 'def increment_by(x):\\n    def increment(y):\\n        return y+x\\n\\n    return increment\\nmy_increment = increment_by(5)\\nprint(my_increment(2))', 'def increment(y):\\n    return y+1\\nprint(increment(2))\\nprint(increment)', 'def increment_by(x):\\n    def increment(y):\\n        return y+x\\n\\n    return increment\\nmy_increment = increment_by(5)\\nprint(my_increment(10))', 'def increment_by(x):\\n    def increment(y):\\n        print(dir())\\n        return y+x\\n        \\n    return increment\\nmy_increment = increment_by(5)\\nprint(my_increment(10))', 'def increment_by(x):\\n    def increment(y):\\n        print(dir())\\n        return y+x\\n        \\n    return increment\\nmy_increment = increment_by(5)\\nprint(my_increment(10))\\nprint(dir())', 'a = 6\\nb = 4\\na,b = b,a\\nprint(a,b)', \"a,b,c = 4,5.5,'Hello' \\nprint(a,b,c)\", 'a,b,*c = [1,2,3,4,5]\\nprint(a,b,c)', 'a = [1,2,3,4,5,6]\\ns = sum([num for num in a if num%2 == 0])\\nprint(s)', 'def create_adder(x):\\n    def adder(y):\\n        return x+y\\n#print(adder(15))\\n \\n    return adder\\n\\n \\nadd_b = create_adder(1)\\n \\nadd_b()', 'def increment(y):\\n    return y+x\\nprint(increment(2))', 'def increment_by(x):\\n    def increment(y):\\n        print(dir())\\n        return y+x\\n        \\n    return increment\\nmy_increment = increment_by(5)\\nprint(my_increment(10))\\nprint(dir())', 'myList = [1,3,4,5]\\nmyList.append(3)\\nmyList', 'def increment(y):\\n    return y+1\\nprint(increment(2))\\nprint(increment)', 'def increment_by(x):\\n    def increment(y):\\n        #print(dir())\\n        return y+x\\n        \\n    return increment\\nmy_increment = increment_by(5)\\nprint(my_increment(10))\\n#print(dir())', '# Generator function for the cube of numbers (power of 3)\\ndef gencubes(n):\\n    for num in range(n):\\n        yield num**3', 'for x in gencubes(10):\\n    print(x)', '# Generator function for the cube of numbers (power of 3)\\ndef gencubes(n):\\n    for num in range(n):\\n        yield num**3', '# Generator function for the cube of numbers (power of 3)\\ndef gencubes(n):\\n    for num in range(n):\\n        yield num**3', '# Generator function for the cube of numbers (power of 3)\\ndef gencubes(n):\\n    for num in range(n):\\n        yield num**3', 'for x in gencubes(10):\\n    print(x)', 'def genfibon(n):\\n    \"\"\"\\n    Generate a fibonnaci sequence up to n\\n    \"\"\"\\n    a = 1\\n    b = 1\\n    for i in range(n):\\n        yield a\\n        a,b = b,a+b', 'def genfibon(n):\\n    \"\"\"\\n    Generate a fibonnaci sequence up to n\\n    \"\"\"\\n    a = 1\\n    b = 1\\n    for i in range(n):\\n        yield a\\n        a,b = b,a+b', 'def genfibon(n):\\n    \"\"\"\\n    Generate a fibonnaci sequence up to n\\n    \"\"\"\\n    a = 1\\n    b = 1\\n    for i in range(n):\\n        yield a\\n        a,b = b,a+b', 'def genfibon(n):\\n    \"\"\"\\n    Generate a fibonnaci sequence up to n\\n    \"\"\"\\n    a = 1\\n    b = 1\\n    for i in range(n):\\n        yield a\\n        a,b = b,a+b', 'def genfibon(n):\\n    \"\"\"\\n    Generate a fibonnaci sequence up to n\\n    \"\"\"\\n    a = 1\\n    b = 1\\n    for i in range(n):\\n        yield a\\n        a,b = b,a+b', 'def genfibon(n):\\n    \"\"\"\\n    Generate a fibonnaci sequence up to n\\n    \"\"\"\\n    a = 1\\n    b = 1\\n    for i in range(n):\\n        yield a\\n        a,b = b,a+b', 'def genfibon(n):\\n    \"\"\"\\n    Generate a fibonnaci sequence up to n\\n    \"\"\"\\n    a = 1\\n    b = 1\\n    for i in range(n):\\n        yield a\\n        a,b = b,a+b', 'for num in genfibon(10):\\n    print(num)', 'for num in genfibon(10):\\n    print(num)', 'def func():\\n    return 1', 'def func():\\n    return 1\\nfunc()', \"s = 'Global Variable'\\n\\ndef check_for_locals():\\n    print(locals())\", \"s = 'Global Variable'\\n\\ndef check_for_locals():\\n    print(locals())\", \"s = 'Global Variable'\\n\\ndef check_for_locals():\\n    print(locals())\", \"s = 'Global Variable'\\n\\ndef check_for_locals():\\n    print(locals())\\nprint(globals())    \"], '_oh': {14: 16, 15: <function create_adder.<locals>.adder at 0x0000019B36A393F0>, 19: [1, 3, 4, 5, 3], 37: [1, 3, 4, 5, 3], 56: 1}, '_dh': [WindowsPath('C:/Users/Hp')], 'In': ['', 'def create_adder(x):\\n    def adder(y):\\n        return x+y\\n \\n    return adder\\n \\nadd_15 = create_adder(15)\\n \\nprint(add_15(10))', 'def create_adder(x):\\n    def adder(y):\\n        return x+y\\n \\n    return adder\\n \\nadd_15 = create_adder(15)\\n \\nprint(add_15())', 'def create_adder(x):\\n    def adder(y):\\n        return x+y\\n \\n    return adder\\n \\nadd_15 = create_adder(15)\\n \\nprint(adder(15))', 'def create_adder(x):\\n    def adder(y):\\n        return x+y\\n        print(adder(15))\\n \\n    return adder\\n\\n \\n# add_15 = create_adder(15)\\n \\n# print(adder(15))', 'def create_adder(x):\\n    def adder(y):\\n        return x+y\\n        print(adder(15))\\n \\n    #return adder\\n\\n \\n# add_15 = create_adder(15)\\n \\n# print(adder(15))', 'def create_adder(x):\\n    def adder(y):\\n        return x+y\\n    print(adder(15))\\n \\n    #return adder\\n\\n \\n# add_15 = create_adder(15)\\n \\n# print(adder(15))', '#def create_adder(x):\\n    def adder(y):\\n        return x+y\\n    print(adder(15))\\n \\n    #return adder\\n\\n \\n# add_15 = create_adder(15)\\n \\n# print(adder(15))', '#def create_adder(x):\\ndef adder(y):\\n    return y\\n    print(adder(15))\\n \\n    #return adder\\n\\n \\n# add_15 = create_adder(15)\\n \\n# print(adder(15))', '#def create_adder(x):\\ndef adder(y):\\n    return y\\nprint(adder(15))\\n \\n    #return adder\\n\\n \\n# add_15 = create_adder(15)\\n \\n# print(adder(15))', 'def create_adder(x):\\n    def adder(y):\\n        return x+y\\n#print(adder(15))\\n \\n    return adder\\n\\n \\n# add_15 = create_adder(15)\\n \\nprint(create_adder(15))', 'def create_adder(x):\\n    def adder(y):\\n        return x+y\\n#print(adder(15))\\n \\n    return adder\\n\\n \\nadd_15 = create_adder(15)\\n \\nprint(add_15(15))', 'def create_adder(x):\\n    def add_15(y):\\n        return x+y\\n#print(adder(15))\\n \\n    return adder\\n\\n \\nadd_15 = create_adder(15)\\n \\nprint(add_15(15))', 'def create_adder(x):\\n    def adder(y):\\n        return x+y\\n#print(adder(15))\\n \\n    return adder\\n\\n \\nadd_b = create_adder()\\n \\nprint(add_b(15))', 'def create_adder(x):\\n    def adder(y):\\n        return x+y\\n#print(adder(15))\\n \\n    return adder\\n\\n \\nadd_b = create_adder(1)\\n \\nadd_b(15)', 'def create_adder(x):\\n    def adder(y):\\n        return x+y\\n#print(adder(15))\\n \\n    return adder\\n\\n \\nadd_b = create_adder(1)\\n \\nadd_b', 'def create_adder(x):\\n    def adder(y):\\n        return x+y\\n#print(adder(15))\\n \\n    return adder\\n\\n \\nadd_b = create_adder(1)\\n \\nadd_b()', 'def create_adder(x):\\n    def adder(y):\\n        return x+y\\n#print(adder(15))\\n \\n    return adder\\n\\n \\nadd_b = create_adder(1)\\n \\nadd_b()', 'myList = [1,3,4,5]\\nmyList.append(3)', 'myList = [1,3,4,5]\\nmyList.append(3)\\nmyList', 'def increment(y):\\n    return y+1\\nprint(increment(2))', 'def increment(y):\\n    return y+x\\nprint(increment(2))', 'def increment(y):\\n    return y+x\\nprint(increment(2))', 'def increment_by(x):\\n    def increment(y):\\n        return y+x\\n\\n    return increment\\nprint(increment(2))', 'def increment_by(x):\\n    def increment(y):\\n        return y+x\\n\\n    return increment\\nprint(increment(2))', 'def increment_by(x):\\n    def increment(y):\\n        return y+x\\n\\n    return increment\\nmy_increment = increment_by(5)\\nprint(my_increment(2))', 'def increment(y):\\n    return y+1\\nprint(increment(2))\\nprint(increment)', 'def increment_by(x):\\n    def increment(y):\\n        return y+x\\n\\n    return increment\\nmy_increment = increment_by(5)\\nprint(my_increment(10))', 'def increment_by(x):\\n    def increment(y):\\n        print(dir())\\n        return y+x\\n        \\n    return increment\\nmy_increment = increment_by(5)\\nprint(my_increment(10))', 'def increment_by(x):\\n    def increment(y):\\n        print(dir())\\n        return y+x\\n        \\n    return increment\\nmy_increment = increment_by(5)\\nprint(my_increment(10))\\nprint(dir())', 'a = 6\\nb = 4\\na,b = b,a\\nprint(a,b)', \"a,b,c = 4,5.5,'Hello' \\nprint(a,b,c)\", 'a,b,*c = [1,2,3,4,5]\\nprint(a,b,c)', 'a = [1,2,3,4,5,6]\\ns = sum([num for num in a if num%2 == 0])\\nprint(s)', 'def create_adder(x):\\n    def adder(y):\\n        return x+y\\n#print(adder(15))\\n \\n    return adder\\n\\n \\nadd_b = create_adder(1)\\n \\nadd_b()', 'def increment(y):\\n    return y+x\\nprint(increment(2))', 'def increment_by(x):\\n    def increment(y):\\n        print(dir())\\n        return y+x\\n        \\n    return increment\\nmy_increment = increment_by(5)\\nprint(my_increment(10))\\nprint(dir())', 'myList = [1,3,4,5]\\nmyList.append(3)\\nmyList', 'def increment(y):\\n    return y+1\\nprint(increment(2))\\nprint(increment)', 'def increment_by(x):\\n    def increment(y):\\n        #print(dir())\\n        return y+x\\n        \\n    return increment\\nmy_increment = increment_by(5)\\nprint(my_increment(10))\\n#print(dir())', '# Generator function for the cube of numbers (power of 3)\\ndef gencubes(n):\\n    for num in range(n):\\n        yield num**3', 'for x in gencubes(10):\\n    print(x)', '# Generator function for the cube of numbers (power of 3)\\ndef gencubes(n):\\n    for num in range(n):\\n        yield num**3', '# Generator function for the cube of numbers (power of 3)\\ndef gencubes(n):\\n    for num in range(n):\\n        yield num**3', '# Generator function for the cube of numbers (power of 3)\\ndef gencubes(n):\\n    for num in range(n):\\n        yield num**3', 'for x in gencubes(10):\\n    print(x)', 'def genfibon(n):\\n    \"\"\"\\n    Generate a fibonnaci sequence up to n\\n    \"\"\"\\n    a = 1\\n    b = 1\\n    for i in range(n):\\n        yield a\\n        a,b = b,a+b', 'def genfibon(n):\\n    \"\"\"\\n    Generate a fibonnaci sequence up to n\\n    \"\"\"\\n    a = 1\\n    b = 1\\n    for i in range(n):\\n        yield a\\n        a,b = b,a+b', 'def genfibon(n):\\n    \"\"\"\\n    Generate a fibonnaci sequence up to n\\n    \"\"\"\\n    a = 1\\n    b = 1\\n    for i in range(n):\\n        yield a\\n        a,b = b,a+b', 'def genfibon(n):\\n    \"\"\"\\n    Generate a fibonnaci sequence up to n\\n    \"\"\"\\n    a = 1\\n    b = 1\\n    for i in range(n):\\n        yield a\\n        a,b = b,a+b', 'def genfibon(n):\\n    \"\"\"\\n    Generate a fibonnaci sequence up to n\\n    \"\"\"\\n    a = 1\\n    b = 1\\n    for i in range(n):\\n        yield a\\n        a,b = b,a+b', 'def genfibon(n):\\n    \"\"\"\\n    Generate a fibonnaci sequence up to n\\n    \"\"\"\\n    a = 1\\n    b = 1\\n    for i in range(n):\\n        yield a\\n        a,b = b,a+b', 'def genfibon(n):\\n    \"\"\"\\n    Generate a fibonnaci sequence up to n\\n    \"\"\"\\n    a = 1\\n    b = 1\\n    for i in range(n):\\n        yield a\\n        a,b = b,a+b', 'for num in genfibon(10):\\n    print(num)', 'for num in genfibon(10):\\n    print(num)', 'def func():\\n    return 1', 'def func():\\n    return 1\\nfunc()', \"s = 'Global Variable'\\n\\ndef check_for_locals():\\n    print(locals())\", \"s = 'Global Variable'\\n\\ndef check_for_locals():\\n    print(locals())\", \"s = 'Global Variable'\\n\\ndef check_for_locals():\\n    print(locals())\", \"s = 'Global Variable'\\n\\ndef check_for_locals():\\n    print(locals())\\nprint(globals())    \"], 'Out': {14: 16, 15: <function create_adder.<locals>.adder at 0x0000019B36A393F0>, 19: [1, 3, 4, 5, 3], 37: [1, 3, 4, 5, 3], 56: 1}, 'get_ipython': <bound method InteractiveShell.get_ipython of <ipykernel.zmqshell.ZMQInteractiveShell object at 0x0000019B34E95FF0>>, 'exit': <IPython.core.autocall.ZMQExitAutocall object at 0x0000019B34E3F220>, 'quit': <IPython.core.autocall.ZMQExitAutocall object at 0x0000019B34E3F220>, '_': 1, '__': [1, 3, 4, 5, 3], '___': [1, 3, 4, 5, 3], '_i': \"s = 'Global Variable'\\n\\ndef check_for_locals():\\n    print(locals())\", '_ii': \"s = 'Global Variable'\\n\\ndef check_for_locals():\\n    print(locals())\", '_iii': \"s = 'Global Variable'\\n\\ndef check_for_locals():\\n    print(locals())\", '_i1': 'def create_adder(x):\\n    def adder(y):\\n        return x+y\\n \\n    return adder\\n \\nadd_15 = create_adder(15)\\n \\nprint(add_15(10))', 'create_adder': <function create_adder at 0x0000019B36E73AC0>, 'add_15': <function adder at 0x0000019B36A38B80>, '_i2': 'def create_adder(x):\\n    def adder(y):\\n        return x+y\\n \\n    return adder\\n \\nadd_15 = create_adder(15)\\n \\nprint(add_15())', '_i3': 'def create_adder(x):\\n    def adder(y):\\n        return x+y\\n \\n    return adder\\n \\nadd_15 = create_adder(15)\\n \\nprint(adder(15))', '_i4': 'def create_adder(x):\\n    def adder(y):\\n        return x+y\\n        print(adder(15))\\n \\n    return adder\\n\\n \\n# add_15 = create_adder(15)\\n \\n# print(adder(15))', '_i5': 'def create_adder(x):\\n    def adder(y):\\n        return x+y\\n        print(adder(15))\\n \\n    #return adder\\n\\n \\n# add_15 = create_adder(15)\\n \\n# print(adder(15))', '_i6': 'def create_adder(x):\\n    def adder(y):\\n        return x+y\\n    print(adder(15))\\n \\n    #return adder\\n\\n \\n# add_15 = create_adder(15)\\n \\n# print(adder(15))', '_i7': '#def create_adder(x):\\n    def adder(y):\\n        return x+y\\n    print(adder(15))\\n \\n    #return adder\\n\\n \\n# add_15 = create_adder(15)\\n \\n# print(adder(15))', '_i8': '#def create_adder(x):\\ndef adder(y):\\n    return y\\n    print(adder(15))\\n \\n    #return adder\\n\\n \\n# add_15 = create_adder(15)\\n \\n# print(adder(15))', 'adder': <function adder at 0x0000019B36A38B80>, '_i9': '#def create_adder(x):\\ndef adder(y):\\n    return y\\nprint(adder(15))\\n \\n    #return adder\\n\\n \\n# add_15 = create_adder(15)\\n \\n# print(adder(15))', '_i10': 'def create_adder(x):\\n    def adder(y):\\n        return x+y\\n#print(adder(15))\\n \\n    return adder\\n\\n \\n# add_15 = create_adder(15)\\n \\nprint(create_adder(15))', '_i11': 'def create_adder(x):\\n    def adder(y):\\n        return x+y\\n#print(adder(15))\\n \\n    return adder\\n\\n \\nadd_15 = create_adder(15)\\n \\nprint(add_15(15))', '_i12': 'def create_adder(x):\\n    def add_15(y):\\n        return x+y\\n#print(adder(15))\\n \\n    return adder\\n\\n \\nadd_15 = create_adder(15)\\n \\nprint(add_15(15))', '_i13': 'def create_adder(x):\\n    def adder(y):\\n        return x+y\\n#print(adder(15))\\n \\n    return adder\\n\\n \\nadd_b = create_adder()\\n \\nprint(add_b(15))', '_i14': 'def create_adder(x):\\n    def adder(y):\\n        return x+y\\n#print(adder(15))\\n \\n    return adder\\n\\n \\nadd_b = create_adder(1)\\n \\nadd_b(15)', 'add_b': <function create_adder.<locals>.adder at 0x0000019B36E72320>, '_14': 16, '_i15': 'def create_adder(x):\\n    def adder(y):\\n        return x+y\\n#print(adder(15))\\n \\n    return adder\\n\\n \\nadd_b = create_adder(1)\\n \\nadd_b', '_15': <function create_adder.<locals>.adder at 0x0000019B36A393F0>, '_i16': 'def create_adder(x):\\n    def adder(y):\\n        return x+y\\n#print(adder(15))\\n \\n    return adder\\n\\n \\nadd_b = create_adder(1)\\n \\nadd_b()', '_i17': 'def create_adder(x):\\n    def adder(y):\\n        return x+y\\n#print(adder(15))\\n \\n    return adder\\n\\n \\nadd_b = create_adder(1)\\n \\nadd_b()', '_i18': 'myList = [1,3,4,5]\\nmyList.append(3)', 'myList': [1, 3, 4, 5, 3], '_i19': 'myList = [1,3,4,5]\\nmyList.append(3)\\nmyList', '_19': [1, 3, 4, 5, 3], '_i20': 'def increment(y):\\n    return y+1\\nprint(increment(2))', 'increment': <function increment at 0x0000019B379835B0>, '_i21': 'def increment(y):\\n    return y+x\\nprint(increment(2))', '_i22': 'def increment(y):\\n    return y+x\\nprint(increment(2))', '_i23': 'def increment_by(x):\\n    def increment(y):\\n        return y+x\\n\\n    return increment\\nprint(increment(2))', 'increment_by': <function increment_by at 0x0000019B36A38CA0>, '_i24': 'def increment_by(x):\\n    def increment(y):\\n        return y+x\\n\\n    return increment\\nprint(increment(2))', '_i25': 'def increment_by(x):\\n    def increment(y):\\n        return y+x\\n\\n    return increment\\nmy_increment = increment_by(5)\\nprint(my_increment(2))', 'my_increment': <function increment_by.<locals>.increment at 0x0000019B379836D0>, '_i26': 'def increment(y):\\n    return y+1\\nprint(increment(2))\\nprint(increment)', '_i27': 'def increment_by(x):\\n    def increment(y):\\n        return y+x\\n\\n    return increment\\nmy_increment = increment_by(5)\\nprint(my_increment(10))', '_i28': 'def increment_by(x):\\n    def increment(y):\\n        print(dir())\\n        return y+x\\n        \\n    return increment\\nmy_increment = increment_by(5)\\nprint(my_increment(10))', '_i29': 'def increment_by(x):\\n    def increment(y):\\n        print(dir())\\n        return y+x\\n        \\n    return increment\\nmy_increment = increment_by(5)\\nprint(my_increment(10))\\nprint(dir())', '_i30': 'a = 6\\nb = 4\\na,b = b,a\\nprint(a,b)', 'a': [1, 2, 3, 4, 5, 6], 'b': 2, '_i31': \"a,b,c = 4,5.5,'Hello' \\nprint(a,b,c)\", 'c': [3, 4, 5], '_i32': 'a,b,*c = [1,2,3,4,5]\\nprint(a,b,c)', '_i33': 'a = [1,2,3,4,5,6]\\ns = sum([num for num in a if num%2 == 0])\\nprint(s)', 's': 'Global Variable', '_i34': 'def create_adder(x):\\n    def adder(y):\\n        return x+y\\n#print(adder(15))\\n \\n    return adder\\n\\n \\nadd_b = create_adder(1)\\n \\nadd_b()', '_i35': 'def increment(y):\\n    return y+x\\nprint(increment(2))', '_i36': 'def increment_by(x):\\n    def increment(y):\\n        print(dir())\\n        return y+x\\n        \\n    return increment\\nmy_increment = increment_by(5)\\nprint(my_increment(10))\\nprint(dir())', '_i37': 'myList = [1,3,4,5]\\nmyList.append(3)\\nmyList', '_37': [1, 3, 4, 5, 3], '_i38': 'def increment(y):\\n    return y+1\\nprint(increment(2))\\nprint(increment)', '_i39': 'def increment_by(x):\\n    def increment(y):\\n        #print(dir())\\n        return y+x\\n        \\n    return increment\\nmy_increment = increment_by(5)\\nprint(my_increment(10))\\n#print(dir())', '_i40': '# Generator function for the cube of numbers (power of 3)\\ndef gencubes(n):\\n    for num in range(n):\\n        yield num**3', 'gencubes': <function gencubes at 0x0000019B37983760>, '_i41': 'for x in gencubes(10):\\n    print(x)', 'x': 729, '_i42': '# Generator function for the cube of numbers (power of 3)\\ndef gencubes(n):\\n    for num in range(n):\\n        yield num**3', '_i43': '# Generator function for the cube of numbers (power of 3)\\ndef gencubes(n):\\n    for num in range(n):\\n        yield num**3', '_i44': '# Generator function for the cube of numbers (power of 3)\\ndef gencubes(n):\\n    for num in range(n):\\n        yield num**3', '_i45': 'for x in gencubes(10):\\n    print(x)', '_i46': 'def genfibon(n):\\n    \"\"\"\\n    Generate a fibonnaci sequence up to n\\n    \"\"\"\\n    a = 1\\n    b = 1\\n    for i in range(n):\\n        yield a\\n        a,b = b,a+b', 'genfibon': <function genfibon at 0x0000019B36A3B1C0>, '_i47': 'def genfibon(n):\\n    \"\"\"\\n    Generate a fibonnaci sequence up to n\\n    \"\"\"\\n    a = 1\\n    b = 1\\n    for i in range(n):\\n        yield a\\n        a,b = b,a+b', '_i48': 'def genfibon(n):\\n    \"\"\"\\n    Generate a fibonnaci sequence up to n\\n    \"\"\"\\n    a = 1\\n    b = 1\\n    for i in range(n):\\n        yield a\\n        a,b = b,a+b', '_i49': 'def genfibon(n):\\n    \"\"\"\\n    Generate a fibonnaci sequence up to n\\n    \"\"\"\\n    a = 1\\n    b = 1\\n    for i in range(n):\\n        yield a\\n        a,b = b,a+b', '_i50': 'def genfibon(n):\\n    \"\"\"\\n    Generate a fibonnaci sequence up to n\\n    \"\"\"\\n    a = 1\\n    b = 1\\n    for i in range(n):\\n        yield a\\n        a,b = b,a+b', '_i51': 'def genfibon(n):\\n    \"\"\"\\n    Generate a fibonnaci sequence up to n\\n    \"\"\"\\n    a = 1\\n    b = 1\\n    for i in range(n):\\n        yield a\\n        a,b = b,a+b', '_i52': 'def genfibon(n):\\n    \"\"\"\\n    Generate a fibonnaci sequence up to n\\n    \"\"\"\\n    a = 1\\n    b = 1\\n    for i in range(n):\\n        yield a\\n        a,b = b,a+b', '_i53': 'for num in genfibon(10):\\n    print(num)', 'num': 55, '_i54': 'for num in genfibon(10):\\n    print(num)', '_i55': 'def func():\\n    return 1', 'func': <function func at 0x0000019B36A38940>, '_i56': 'def func():\\n    return 1\\nfunc()', '_56': 1, '_i57': \"s = 'Global Variable'\\n\\ndef check_for_locals():\\n    print(locals())\", 'check_for_locals': <function check_for_locals at 0x0000019B37983640>, '_i58': \"s = 'Global Variable'\\n\\ndef check_for_locals():\\n    print(locals())\", '_i59': \"s = 'Global Variable'\\n\\ndef check_for_locals():\\n    print(locals())\", '_i60': \"s = 'Global Variable'\\n\\ndef check_for_locals():\\n    print(locals())\\nprint(globals())    \"}\n"
     ]
    }
   ],
   "source": [
    "s = 'Global Variable'\n",
    "\n",
    "def check_for_locals():\n",
    "    print(locals())\n",
    "print(globals())    "
   ]
  },
  {
   "cell_type": "code",
   "execution_count": 61,
   "id": "b5740874",
   "metadata": {},
   "outputs": [
    {
     "name": "stdout",
     "output_type": "stream",
     "text": [
      "dict_keys(['__name__', '__doc__', '__package__', '__loader__', '__spec__', '__builtin__', '__builtins__', '_ih', '_oh', '_dh', 'In', 'Out', 'get_ipython', 'exit', 'quit', '_', '__', '___', '_i', '_ii', '_iii', '_i1', 'create_adder', 'add_15', '_i2', '_i3', '_i4', '_i5', '_i6', '_i7', '_i8', 'adder', '_i9', '_i10', '_i11', '_i12', '_i13', '_i14', 'add_b', '_14', '_i15', '_15', '_i16', '_i17', '_i18', 'myList', '_i19', '_19', '_i20', 'increment', '_i21', '_i22', '_i23', 'increment_by', '_i24', '_i25', 'my_increment', '_i26', '_i27', '_i28', '_i29', '_i30', 'a', 'b', '_i31', 'c', '_i32', '_i33', 's', '_i34', '_i35', '_i36', '_i37', '_37', '_i38', '_i39', '_i40', 'gencubes', '_i41', 'x', '_i42', '_i43', '_i44', '_i45', '_i46', 'genfibon', '_i47', '_i48', '_i49', '_i50', '_i51', '_i52', '_i53', 'num', '_i54', '_i55', 'func', '_i56', '_56', '_i57', 'check_for_locals', '_i58', '_i59', '_i60', '_i61'])\n"
     ]
    }
   ],
   "source": [
    "print(globals().keys())\n"
   ]
  },
  {
   "cell_type": "code",
   "execution_count": 62,
   "id": "4551ebd2",
   "metadata": {},
   "outputs": [
    {
     "name": "stdout",
     "output_type": "stream",
     "text": [
      "{}\n"
     ]
    }
   ],
   "source": [
    "check_for_locals()"
   ]
  },
  {
   "cell_type": "code",
   "execution_count": 66,
   "id": "9e3bc0dd",
   "metadata": {},
   "outputs": [],
   "source": [
    "def hello(name='chirag'):\n",
    "    return 'Hello '+name"
   ]
  },
  {
   "cell_type": "code",
   "execution_count": 67,
   "id": "63dbd09c",
   "metadata": {},
   "outputs": [
    {
     "data": {
      "text/plain": [
       "'Hello chirag'"
      ]
     },
     "execution_count": 67,
     "metadata": {},
     "output_type": "execute_result"
    }
   ],
   "source": [
    "hello()"
   ]
  },
  {
   "cell_type": "code",
   "execution_count": 68,
   "id": "b6286762",
   "metadata": {},
   "outputs": [],
   "source": [
    "greet = hello"
   ]
  },
  {
   "cell_type": "code",
   "execution_count": 70,
   "id": "067ccb52",
   "metadata": {},
   "outputs": [
    {
     "data": {
      "text/plain": [
       "'Hello chirag'"
      ]
     },
     "execution_count": 70,
     "metadata": {},
     "output_type": "execute_result"
    }
   ],
   "source": [
    "greet()"
   ]
  },
  {
   "cell_type": "code",
   "execution_count": 77,
   "id": "eaf0b767",
   "metadata": {},
   "outputs": [],
   "source": [
    "def new_decorator(func):\n",
    "\n",
    "    def wrap_func():\n",
    "        print(\"Code would be here, before executing the func\")\n",
    "\n",
    "        func()\n",
    "\n",
    "        print(\"Code here will execute after the func()\")\n",
    "\n",
    "    return wrap_func\n",
    "\n",
    "def func_needs_decorator():\n",
    "    print(\"This function is in need of a Decorator\")"
   ]
  },
  {
   "cell_type": "code",
   "execution_count": 78,
   "id": "8c124d95",
   "metadata": {},
   "outputs": [
    {
     "name": "stdout",
     "output_type": "stream",
     "text": [
      "This function is in need of a Decorator\n"
     ]
    }
   ],
   "source": [
    "func_needs_decorator()\n"
   ]
  },
  {
   "cell_type": "code",
   "execution_count": 81,
   "id": "dc495023",
   "metadata": {},
   "outputs": [],
   "source": [
    "@new_decorator\n",
    "def func_needs_decorator():\n",
    "    print(\"This function is in need of a Decorator\")"
   ]
  },
  {
   "cell_type": "code",
   "execution_count": 82,
   "id": "b0fcd5fc",
   "metadata": {},
   "outputs": [
    {
     "name": "stdout",
     "output_type": "stream",
     "text": [
      "Code would be here, before executing the func\n",
      "This function is in need of a Decorator\n",
      "Code here will execute after the func()\n"
     ]
    }
   ],
   "source": [
    "func_needs_decorator()"
   ]
  },
  {
   "cell_type": "code",
   "execution_count": null,
   "id": "40e53979",
   "metadata": {},
   "outputs": [],
   "source": []
  }
 ],
 "metadata": {
  "kernelspec": {
   "display_name": "Python 3 (ipykernel)",
   "language": "python",
   "name": "python3"
  },
  "language_info": {
   "codemirror_mode": {
    "name": "ipython",
    "version": 3
   },
   "file_extension": ".py",
   "mimetype": "text/x-python",
   "name": "python",
   "nbconvert_exporter": "python",
   "pygments_lexer": "ipython3",
   "version": "3.10.2"
  }
 },
 "nbformat": 4,
 "nbformat_minor": 5
}
