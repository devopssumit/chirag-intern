{
 "cells": [
  {
   "cell_type": "code",
   "execution_count": 2,
   "id": "2def543e",
   "metadata": {},
   "outputs": [
    {
     "name": "stdout",
     "output_type": "stream",
     "text": [
      "2022\n"
     ]
    },
    {
     "data": {
      "text/plain": [
       "False"
      ]
     },
     "execution_count": 2,
     "metadata": {},
     "output_type": "execute_result"
    }
   ],
   "source": [
    "from datetime import date\n",
    "\n",
    "today = date.today()\n",
    "# print(date.today())\n",
    "# D=today.day\n",
    "# # M= int(input())\n",
    "# Y= today.year\n",
    "\n",
    "n = int(input())\n",
    "def is_leapyear(n):\n",
    "    if n%400==0:\n",
    "        return True \n",
    "    elif n%100==0:\n",
    "        return False\n",
    "    elif n%4 ==0:\n",
    "        return True\n",
    "    else :\n",
    "        return False\n",
    "\n",
    "is_leapyear(n)\n",
    "    "
   ]
  },
  {
   "cell_type": "code",
   "execution_count": 3,
   "id": "e582d77b",
   "metadata": {},
   "outputs": [
    {
     "name": "stdout",
     "output_type": "stream",
     "text": [
      "17\n"
     ]
    }
   ],
   "source": [
    "from datetime import date\n",
    "\n",
    "today = date.today()\n",
    "D=today.day\n",
    "M= today.month\n",
    "Y= today.year\n",
    "print(today.day)"
   ]
  },
  {
   "cell_type": "code",
   "execution_count": 4,
   "id": "4f694511",
   "metadata": {},
   "outputs": [],
   "source": [
    "from faker import Faker\n",
    "fake = Faker()\n",
    "def generate_random_date():\n",
    "    return fake.date_between(start_date='today', end_date='+30y')"
   ]
  },
  {
   "cell_type": "code",
   "execution_count": 5,
   "id": "e55d6834",
   "metadata": {},
   "outputs": [
    {
     "data": {
      "text/plain": [
       "datetime.date(2041, 1, 13)"
      ]
     },
     "execution_count": 5,
     "metadata": {},
     "output_type": "execute_result"
    }
   ],
   "source": [
    "generate_random_date()"
   ]
  },
  {
   "cell_type": "code",
   "execution_count": 6,
   "id": "6000dd80",
   "metadata": {},
   "outputs": [
    {
     "name": "stdout",
     "output_type": "stream",
     "text": [
      "Date: 2050-07-24\n",
      "Is_leap: False\n"
     ]
    }
   ],
   "source": [
    "from faker import Faker\n",
    "fake = Faker()\n",
    "def generate_random_date():\n",
    "    return fake.date_between(start_date='today', end_date='+30y')\n",
    "\n",
    "dt = generate_random_date()\n",
    "print(f'Date: {dt}')\n",
    "\n",
    "\n",
    "#n = int(input())\n",
    "def is_leapyear(n):\n",
    "    if n%400==0:\n",
    "        return True \n",
    "    elif n%100==0:\n",
    "        return False\n",
    "    elif n%4 ==0:\n",
    "        return True\n",
    "    else :\n",
    "        return False\n",
    "# generate_random_date()\n",
    "\n",
    "print(f'Is_leap: {is_leapyear(dt.year)}')"
   ]
  },
  {
   "cell_type": "code",
   "execution_count": null,
   "id": "c84ae5d2",
   "metadata": {},
   "outputs": [],
   "source": []
  },
  {
   "cell_type": "code",
   "execution_count": 7,
   "id": "2792c2dd",
   "metadata": {},
   "outputs": [
    {
     "name": "stdout",
     "output_type": "stream",
     "text": [
      "Date: 2049-07-04\n",
      "The month is:7\n",
      "Is_leap: False\n",
      "The days are:31\n",
      "The Day of that date is :Sunday\n"
     ]
    }
   ],
   "source": [
    "import calendar \n",
    "from datetime import date\n",
    "from faker import Faker\n",
    "fake = Faker()\n",
    "def generate_random_date():\n",
    "    return fake.date_between(start_date='today', end_date='+30y')\n",
    "dt = generate_random_date()\n",
    "print(f'Date: {dt}')\n",
    "# print(dt.day)\n",
    "\n",
    "print(f'The month is:{dt.month}')\n",
    "def month1(dt):\n",
    "    month = dt.month\n",
    "    if  month == 1 or month == 3 or month == 5 or month == 7 or month == 8 or month == 10 or month == 12:\n",
    "        print('The days are:31')\n",
    "#         return 31\n",
    "    elif month == 4 or month == 6 or month == 9 or month == 11:\n",
    "        print('The days are:30')\n",
    "#         return 30\n",
    "    else:\n",
    "        if is_leap(dt.year):\n",
    "            return 29\n",
    "        else:\n",
    "            return 28\n",
    "\n",
    "#n = int(input())\n",
    "def is_leapyear(n):\n",
    "    if n%400==0:\n",
    "        return True \n",
    "    elif n%100==0:\n",
    "        return False\n",
    "    elif n%4 ==0:\n",
    "        return True\n",
    "    else :\n",
    "        return False\n",
    "# generate_random_date()\n",
    "    \n",
    "\n",
    "print(f'Is_leap: {is_leapyear(dt.year)}')\n",
    "\n",
    "# month=dt.month\n",
    "\n",
    "\n",
    "month1(dt)\n",
    "#decode_day(day) -> str\n",
    "\n",
    "\n",
    "#  x = dt.day\n",
    "# for dt.day in range(7):\n",
    "#     print( calendar.day_name[dt.day])  \n",
    "    \n",
    "    \n",
    "# curr_date = dt.weekday()\n",
    "print(f'The Day of that date is :{calendar.day_name[dt.weekday()]}')    \n",
    "    \n",
    "    \n"
   ]
  },
  {
   "cell_type": "code",
   "execution_count": 8,
   "id": "a8424f6f",
   "metadata": {},
   "outputs": [
    {
     "name": "stdout",
     "output_type": "stream",
     "text": [
      "2042-11-04\n"
     ]
    },
    {
     "data": {
      "text/plain": [
       "30"
      ]
     },
     "execution_count": 8,
     "metadata": {},
     "output_type": "execute_result"
    }
   ],
   "source": [
    "from calendar import monthrange\n",
    "def number_of_days_in_month(year=0, month=0):\n",
    "    return monthrange(year, month)[1]\n",
    "x = generate_random_date()\n",
    "print(x)\n",
    "number_of_days_in_month(x.year,x.month)"
   ]
  },
  {
   "cell_type": "code",
   "execution_count": 9,
   "id": "2912bb5a",
   "metadata": {},
   "outputs": [
    {
     "name": "stdout",
     "output_type": "stream",
     "text": [
      "1 : January\n",
      "2 : February\n",
      "3 : March\n",
      "4 : April\n",
      "5 : May\n",
      "6 : June\n",
      "7 : July\n",
      "8 : August\n",
      "9 : September\n",
      "10 : October\n",
      "11 : November\n",
      "12 : December\n"
     ]
    }
   ],
   "source": [
    "import calendar\n",
    "for x in range(1,13):\n",
    "    print(x, \":\", calendar.month_name[x])\n"
   ]
  },
  {
   "cell_type": "code",
   "execution_count": null,
   "id": "828f65bf",
   "metadata": {},
   "outputs": [],
   "source": []
  },
  {
   "cell_type": "code",
   "execution_count": 10,
   "id": "e2b2ea52",
   "metadata": {},
   "outputs": [
    {
     "name": "stdout",
     "output_type": "stream",
     "text": [
      "1 : Monday\n",
      "2 : Tuesday\n",
      "3 : Wednesday\n",
      "4 : Thursday\n",
      "5 : Friday\n",
      "6 : Saturday\n",
      "7 : Sunday\n"
     ]
    }
   ],
   "source": [
    "#decode_day(day) -> str\n",
    "\n",
    "import calendar \n",
    "\n",
    "for x in range(7):\n",
    "    print(x+1 ,':', calendar.day_name[x])   \n",
    "    \n",
    "    "
   ]
  },
  {
   "cell_type": "code",
   "execution_count": 11,
   "id": "375bc429",
   "metadata": {},
   "outputs": [
    {
     "name": "stdout",
     "output_type": "stream",
     "text": [
      "2032-01-18\n"
     ]
    },
    {
     "data": {
      "text/plain": [
       "31"
      ]
     },
     "execution_count": 11,
     "metadata": {},
     "output_type": "execute_result"
    }
   ],
   "source": [
    "from calendar import monthrange\n",
    "def number_of_days_in_month(year=0, month=0):\n",
    "    return monthrange(year, month)[1]\n",
    "x = generate_random_date()\n",
    "print(x)\n",
    "number_of_days_in_month(x.year,x.month)"
   ]
  },
  {
   "cell_type": "code",
   "execution_count": 12,
   "id": "eebb94ef",
   "metadata": {},
   "outputs": [],
   "source": [
    "# decode_day(day) -> int\n",
    "\n"
   ]
  },
  {
   "cell_type": "code",
   "execution_count": null,
   "id": "705549fe",
   "metadata": {},
   "outputs": [],
   "source": []
  },
  {
   "cell_type": "code",
   "execution_count": null,
   "id": "732a285b",
   "metadata": {},
   "outputs": [],
   "source": []
  },
  {
   "cell_type": "code",
   "execution_count": null,
   "id": "f432fbb8",
   "metadata": {},
   "outputs": [],
   "source": []
  },
  {
   "cell_type": "code",
   "execution_count": null,
   "id": "a83a9006",
   "metadata": {},
   "outputs": [],
   "source": []
  },
  {
   "cell_type": "code",
   "execution_count": null,
   "id": "840f4097",
   "metadata": {},
   "outputs": [],
   "source": []
  },
  {
   "cell_type": "code",
   "execution_count": null,
   "id": "c89d4b8b",
   "metadata": {},
   "outputs": [],
   "source": []
  },
  {
   "cell_type": "code",
   "execution_count": null,
   "id": "ba47c307",
   "metadata": {},
   "outputs": [],
   "source": []
  },
  {
   "cell_type": "code",
   "execution_count": null,
   "id": "6a6c0af9",
   "metadata": {},
   "outputs": [],
   "source": []
  },
  {
   "cell_type": "code",
   "execution_count": null,
   "id": "6c7e26d0",
   "metadata": {},
   "outputs": [],
   "source": []
  },
  {
   "cell_type": "code",
   "execution_count": null,
   "id": "99d8e30d",
   "metadata": {},
   "outputs": [],
   "source": []
  },
  {
   "cell_type": "code",
   "execution_count": null,
   "id": "8a05e8a1",
   "metadata": {},
   "outputs": [],
   "source": []
  },
  {
   "cell_type": "code",
   "execution_count": null,
   "id": "970b2f2f",
   "metadata": {},
   "outputs": [],
   "source": []
  },
  {
   "cell_type": "code",
   "execution_count": 13,
   "id": "84907537",
   "metadata": {},
   "outputs": [
    {
     "ename": "ModuleNotFoundError",
     "evalue": "No module named 'spcalendar'",
     "output_type": "error",
     "traceback": [
      "\u001b[1;31m---------------------------------------------------------------------------\u001b[0m",
      "\u001b[1;31mModuleNotFoundError\u001b[0m                       Traceback (most recent call last)",
      "Input \u001b[1;32mIn [13]\u001b[0m, in \u001b[0;36m<cell line: 19>\u001b[1;34m()\u001b[0m\n\u001b[0;32m      2\u001b[0m \u001b[38;5;28;01mimport\u001b[39;00m \u001b[38;5;21;01mdatetime\u001b[39;00m\n\u001b[0;32m     18\u001b[0m \u001b[38;5;28;01mfrom\u001b[39;00m \u001b[38;5;21;01mfaker\u001b[39;00m \u001b[38;5;28;01mimport\u001b[39;00m Faker\n\u001b[1;32m---> 19\u001b[0m \u001b[38;5;28;01mfrom\u001b[39;00m \u001b[38;5;21;01mspcalendar\u001b[39;00m\u001b[38;5;21;01m.\u001b[39;00m\u001b[38;5;21;01mspcalendar\u001b[39;00m \u001b[38;5;28;01mimport\u001b[39;00m is_leap\n\u001b[0;32m     20\u001b[0m \u001b[38;5;28;01mfrom\u001b[39;00m \u001b[38;5;21;01mspcalendar\u001b[39;00m\u001b[38;5;21;01m.\u001b[39;00m\u001b[38;5;21;01mspcalendar\u001b[39;00m \u001b[38;5;28;01mimport\u001b[39;00m number_of_days_in_month\n\u001b[0;32m     21\u001b[0m \u001b[38;5;28;01mfrom\u001b[39;00m \u001b[38;5;21;01mspcalendar\u001b[39;00m\u001b[38;5;21;01m.\u001b[39;00m\u001b[38;5;21;01mspcalendar\u001b[39;00m \u001b[38;5;28;01mimport\u001b[39;00m odd_days_in_month\n",
      "\u001b[1;31mModuleNotFoundError\u001b[0m: No module named 'spcalendar'"
     ]
    }
   ],
   "source": [
    "from calendar import monthrange\n",
    "import datetime\n",
    "\n",
    "\n",
    "\n",
    "\n",
    "\n",
    "\n",
    "\n",
    "\n",
    "\n",
    "\n",
    "\n",
    "\n",
    "\n",
    "\n",
    "\n",
    "from faker import Faker\n",
    "from spcalendar.spcalendar import is_leap\n",
    "from spcalendar.spcalendar import number_of_days_in_month\n",
    "from spcalendar.spcalendar import odd_days_in_month\n",
    "from spcalendar.spcalendar import odd_days_in_century\n",
    "from spcalendar.spcalendar import decode_month\n",
    "from spcalendar.spcalendar import decode_day\n",
    "import datetime\n",
    "\n",
    "import random\n",
    "\n",
    "fake = Faker()\n",
    "\n",
    "\n",
    "def generate_random_date():\n",
    "    return fake.date_between(start_date='today', end_date='+30y')\n",
    "\n",
    "\n",
    "century = random.randrange(1, 22)*100\n",
    "dt = generate_random_date()\n",
    "print(f\"Date: {dt}\")\n",
    "\n",
    "print(f\"Is leap year? - {is_leap(dt.year)}\")\n",
    "print(\n",
    "    f'The number of days in the month is- {number_of_days_in_month(dt.year,dt.month)}')\n",
    "print(f'Total odd days in month {dt.month} is {odd_days_in_month(dt.month)}')\n",
    "print(f'The century is {century}')\n",
    "print(f'The no. of odd days in {century} is {odd_days_in_century(century)}')\n",
    "\n",
    "print(f\"Decode Month to string :  - {decode_month(dt.month)}\")\n",
    "\n",
    "print()\n",
    "\n",
    "\n",
    "\n",
    "\n",
    "\n",
    "\n",
    "\n",
    "\n",
    "\n",
    "\n",
    "\n",
    "\n",
    "def is_leap(year):\n",
    "    \"\"\"\n",
    "    Description: Given an integer year in the input, it should return a boolean\n",
    "    signifying whether the given year is a leap year or not.\n",
    "    Input: year (integer)\n",
    "    Ouput: boolean (leap or not)\n",
    "    \"\"\"\n",
    "    return ((year % 4 == 0) and (year % 100 != 0)) or (year % 400 == 0)\n",
    "\n",
    "\n",
    "def number_of_days_in_month(year=0, month=0):\n",
    "    return monthrange(year, month)[1]\n",
    "\n",
    "\n",
    "def odd_days_in_month(year=0, month=0):\n",
    "    \"\"\"\n",
    "    Description: Given an integer month in input,it should return an integer\n",
    "    signifying the total no. of odd days in the month.\n",
    "    Input: month(integer)\n",
    "    Output: integer(total no of odd days)\n",
    "    \"\"\"\n",
    "    no_of_days_in_month = number_of_days_in_month(year, month)\n",
    "    count_odd = 0\n",
    "    for day in range(1, no_of_days_in_month+1):\n",
    "        if day % 2 != 0:\n",
    "            count_odd += 1\n",
    "    return count_odd\n",
    "\n",
    "\n",
    "def odd_days_in_century(century=0):\n",
    "    \"\"\"\n",
    "    Description: Given an integer century in input,it should return an integer\n",
    "    signifying the total no. of odd days in a century.\n",
    "    Input: century(ineger)\n",
    "    Output: integer(total no of odd days in a century)\n",
    "    \"\"\"\n",
    "    count_odd = 0\n",
    "    count_leap = 0\n",
    "    for year in range(century-100, century):\n",
    "        if is_leap(year) == True:\n",
    "            count_leap += 1\n",
    "    total_days = 36500 + count_leap\n",
    "    for day in range(1, total_days+1):\n",
    "        if day % 2 != 0:\n",
    "            count_odd += 1\n",
    "\n",
    "    return count_odd\n",
    "\n",
    "\n",
    "def decode_month(month=0):\n",
    "    \"\"\"\n",
    "<<<<<<< HEAD\n",
    "    DESCRIPTION : Decode month number to convert to string.\n",
    "    INPUT : Month generated by using random generator function.\n",
    "    OUTPUT: Month Name is displayed by using month number.\n",
    "=======\n",
    "    DESCRIPTION : Decode month --> number to convert to string\n",
    "    INPUT : Month generated by using random generator function\n",
    "    OUTPUT: Month Name is displayed by using month number\n",
    ">>>>>>> 1f738f773c40a6186b20a9cd5d0324aca5f2ca37\n",
    "    \"\"\"\n",
    "    if month == 1:\n",
    "        return \"January\"\n",
    "    elif month == 2:\n",
    "        return \"February\"\n",
    "    elif month == 3:\n",
    "        return \"March\"\n",
    "    elif month == 4:\n",
    "        return \"April\"\n",
    "    elif month == 5:\n",
    "        return \"May\"\n",
    "    elif month == 6:\n",
    "        return \"June\"\n",
    "    elif month == 7:\n",
    "        return \"July\"\n",
    "    elif month == 8:\n",
    "        return \"August\"\n",
    "    elif month == 9:\n",
    "        return \"September\"\n",
    "    elif month == 10:\n",
    "        return \"October\"\n",
    "    elif month == 11:\n",
    "        return \"November\"\n",
    "    elif month == 12:\n",
    "        return \"December\""
   ]
  },
  {
   "cell_type": "code",
   "execution_count": null,
   "id": "fc150032",
   "metadata": {},
   "outputs": [],
   "source": []
  }
 ],
 "metadata": {
  "kernelspec": {
   "display_name": "Python 3 (ipykernel)",
   "language": "python",
   "name": "python3"
  },
  "language_info": {
   "codemirror_mode": {
    "name": "ipython",
    "version": 3
   },
   "file_extension": ".py",
   "mimetype": "text/x-python",
   "name": "python",
   "nbconvert_exporter": "python",
   "pygments_lexer": "ipython3",
   "version": "3.10.2"
  }
 },
 "nbformat": 4,
 "nbformat_minor": 5
}
