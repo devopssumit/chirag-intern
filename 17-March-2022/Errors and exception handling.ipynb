{
 "cells": [
  {
   "cell_type": "markdown",
   "id": "7c8eb9cc",
   "metadata": {},
   "source": [
    "# Errors and exception handling"
   ]
  },
  {
   "cell_type": "code",
   "execution_count": 10,
   "id": "51b191f5",
   "metadata": {},
   "outputs": [
    {
     "name": "stdout",
     "output_type": "stream",
     "text": [
      "All other exceptions!\n",
      "I always run\n"
     ]
    }
   ],
   "source": [
    "try:   ##Try to attempt \n",
    "    f = open('testfile','r')\n",
    "    f.write('write a test line')\n",
    "except TypeError:\n",
    "    print('There was a type error !')\n",
    "except:      ## Occur when there is an option\n",
    "    print('All other exceptions!')\n",
    "finally:     ##always run if there is error too\n",
    "    print('I always run')"
   ]
  },
  {
   "cell_type": "code",
   "execution_count": 11,
   "id": "34fff0c4",
   "metadata": {},
   "outputs": [
    {
     "name": "stdout",
     "output_type": "stream",
     "text": [
      "I always run\n"
     ]
    }
   ],
   "source": [
    "try:   ##Try to attempt \n",
    "    f = open('testfile','w')\n",
    "    f.write('write a test line')\n",
    "\n",
    "except:      ## Occur when there is an option\n",
    "    print('All other exceptions!')\n",
    "finally:     ##always run if there is error too\n",
    "    print('I always run')"
   ]
  },
  {
   "cell_type": "code",
   "execution_count": 12,
   "id": "6ebe9ef6",
   "metadata": {},
   "outputs": [],
   "source": [
    "def ask_for_int():\n",
    "    try:\n",
    "        result = int(input(\"please provide number: \"))\n",
    "    except:\n",
    "        print(\"Whoops! that is not a number\")\n",
    "    finally:\n",
    "        print(\"End of try/except/finally\")"
   ]
  },
  {
   "cell_type": "code",
   "execution_count": 13,
   "id": "1bf33698",
   "metadata": {},
   "outputs": [
    {
     "name": "stdout",
     "output_type": "stream",
     "text": [
      "please provide number: 20\n",
      "End of try/except/finally\n"
     ]
    }
   ],
   "source": [
    "ask_for_int()"
   ]
  },
  {
   "cell_type": "code",
   "execution_count": 14,
   "id": "3ce76fcb",
   "metadata": {},
   "outputs": [
    {
     "name": "stdout",
     "output_type": "stream",
     "text": [
      "please provide number: word\n",
      "Whoops! that is not a number\n",
      "End of try/except/finally\n"
     ]
    }
   ],
   "source": [
    "ask_for_int()"
   ]
  },
  {
   "cell_type": "code",
   "execution_count": 1,
   "id": "fae1fba9",
   "metadata": {},
   "outputs": [],
   "source": [
    "def ask_for_int():\n",
    "    while True:\n",
    "        \n",
    "        try:\n",
    "            result = int(input(\"please provide number: \"))\n",
    "        except:\n",
    "            print(\"Whoops !  that is not a number\")\n",
    "            continue\n",
    "        else:\n",
    "            print(\"yes thankyou\")\n",
    "            break\n",
    "        finally:\n",
    "            print(\"end of try/except/finally\")\n",
    "            print(\"I will always run at the end!\")\n",
    "          "
   ]
  },
  {
   "cell_type": "code",
   "execution_count": 3,
   "id": "361c67ee",
   "metadata": {},
   "outputs": [
    {
     "name": "stdout",
     "output_type": "stream",
     "text": [
      "please provide number: j\n",
      "Whoops !  that is not a number\n",
      "end of try/except/finally\n",
      "I will always run at the end!\n",
      "please provide number: h\n",
      "Whoops !  that is not a number\n",
      "end of try/except/finally\n",
      "I will always run at the end!\n",
      "please provide number: 9\n",
      "yes thankyou\n",
      "end of try/except/finally\n",
      "I will always run at the end!\n"
     ]
    }
   ],
   "source": [
    "ask_for_int() "
   ]
  },
  {
   "cell_type": "code",
   "execution_count": null,
   "id": "c08ae7c7",
   "metadata": {},
   "outputs": [],
   "source": []
  }
 ],
 "metadata": {
  "kernelspec": {
   "display_name": "Python 3 (ipykernel)",
   "language": "python",
   "name": "python3"
  },
  "language_info": {
   "codemirror_mode": {
    "name": "ipython",
    "version": 3
   },
   "file_extension": ".py",
   "mimetype": "text/x-python",
   "name": "python",
   "nbconvert_exporter": "python",
   "pygments_lexer": "ipython3",
   "version": "3.10.2"
  }
 },
 "nbformat": 4,
 "nbformat_minor": 5
}
