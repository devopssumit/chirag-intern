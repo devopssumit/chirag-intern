{
 "cells": [
  {
   "cell_type": "code",
   "execution_count": 9,
   "id": "592a736c",
   "metadata": {},
   "outputs": [
    {
     "name": "stdout",
     "output_type": "stream",
     "text": [
      "BMW 10\n",
      "BMW 10\n"
     ]
    }
   ],
   "source": [
    "class Car:\n",
    "    def __init__(self):\n",
    "        self.mil = 10\n",
    "        self.com = \"BMW\"\n",
    "        \n",
    "c1 = Car()\n",
    "c2 = Car()\n",
    "\n",
    "\n",
    "print(c1.com , c1.mil)\n",
    "print(c2.com , c2.mil)"
   ]
  },
  {
   "cell_type": "code",
   "execution_count": 27,
   "id": "5b6e86c0",
   "metadata": {},
   "outputs": [
    {
     "name": "stdout",
     "output_type": "stream",
     "text": [
      "37.666666666666664\n",
      "School_Name: NCS\n",
      "This is Student Class.. in abc ,module\n"
     ]
    }
   ],
   "source": [
    "class Student:\n",
    "    school = 'School_Name: NCS'\n",
    "    \n",
    "    def __init__(self,m1,m2,m3):\n",
    "        self.m1 = m1\n",
    "        self.m2 = m2\n",
    "        self.m3 = m3\n",
    "        \n",
    "    def avg(self):\n",
    "        return (self.m1 + self.m2 + self.m3)/3\n",
    "    \n",
    "    \n",
    "    @classmethod\n",
    "    def info(cls):\n",
    "        return cls.school\n",
    "    \n",
    "    @staticmethod\n",
    "    def getSchool():\n",
    "        print(\"This is Student Class.. in abc ,module\")\n",
    "        \n",
    "    \n",
    "s1 = Student(34,47,32)\n",
    "s2 = Student(89,32,12)\n",
    "\n",
    "\n",
    "print(s1.avg())\n",
    "print(Student.info())\n",
    "Student.getSchool()\n",
    "\n"
   ]
  },
  {
   "cell_type": "code",
   "execution_count": 42,
   "id": "a8117953",
   "metadata": {},
   "outputs": [
    {
     "name": "stdout",
     "output_type": "stream",
     "text": [
      "Jk 52\n"
     ]
    }
   ],
   "source": [
    "#CLASS INSIDE A CLASS\n",
    "\n",
    "\n",
    "\n",
    "class Student:\n",
    "    def __init__(self,name,rollno):\n",
    "        self.name = name\n",
    "        self.rollno = rollno\n",
    "        self.lap = self.Laptop()\n",
    "        \n",
    "    def show(self):\n",
    "        print(self.name,self.rollno)\n",
    "        \n",
    "    class Laptop:\n",
    "        def __init__(self):\n",
    "            self.brand = 'HP'\n",
    "            self.cpu = 'i5'\n",
    "            self.ram = 8\n",
    "            \n",
    "s1 = Student('CS',29)\n",
    "s2 = Student('Jk',52)\n",
    "\n",
    "s2.show()\n",
    "lap1 = s1.lap\n",
    "lap2 = s2.lap"
   ]
  },
  {
   "cell_type": "code",
   "execution_count": 48,
   "id": "5a2dbe18",
   "metadata": {},
   "outputs": [
    {
     "name": "stdout",
     "output_type": "stream",
     "text": [
      "Woof! My Name is tuffy\n"
     ]
    },
    {
     "data": {
      "text/plain": [
       "'tuffy'"
      ]
     },
     "execution_count": 48,
     "metadata": {},
     "output_type": "execute_result"
    }
   ],
   "source": [
    "class Dog():\n",
    "    \n",
    "    species =  'mammal'\n",
    "    def __init__(self,breed,name):\n",
    "        self.breed = breed \n",
    "        self.name = name\n",
    "        \n",
    "    def bark(self):\n",
    "        print(\"Woof! My Name is {}\".format(self.name))\n",
    "my_dog = Dog('Lab','tuffy')\n",
    "type(my_dog)\n",
    "my_dog.bark()\n",
    "my_dog.name\n"
   ]
  },
  {
   "cell_type": "code",
   "execution_count": 54,
   "id": "652f08d3",
   "metadata": {},
   "outputs": [
    {
     "data": {
      "text/plain": [
       "3.14"
      ]
     },
     "execution_count": 54,
     "metadata": {},
     "output_type": "execute_result"
    }
   ],
   "source": [
    "class Circle():\n",
    "    pi = 3.14\n",
    "    \n",
    "    def __init__(self,radius=1):\n",
    "        self.radius = radius\n",
    "        self.area = radius*radius*self.pi\n",
    "    def get_circumference(self):\n",
    "        return self.radius*self.pi*2\n",
    "my_circle = Circle(30)\n",
    "my_circle.pi"
   ]
  },
  {
   "cell_type": "code",
   "execution_count": 55,
   "id": "28c1dc9c",
   "metadata": {},
   "outputs": [
    {
     "data": {
      "text/plain": [
       "30"
      ]
     },
     "execution_count": 55,
     "metadata": {},
     "output_type": "execute_result"
    }
   ],
   "source": [
    "my_circle.radius"
   ]
  },
  {
   "cell_type": "code",
   "execution_count": 56,
   "id": "a70a8dce",
   "metadata": {},
   "outputs": [
    {
     "data": {
      "text/plain": [
       "188.4"
      ]
     },
     "execution_count": 56,
     "metadata": {},
     "output_type": "execute_result"
    }
   ],
   "source": [
    "my_circle.get_circumference()"
   ]
  },
  {
   "cell_type": "code",
   "execution_count": 57,
   "id": "62bd5b08",
   "metadata": {},
   "outputs": [
    {
     "data": {
      "text/plain": [
       "2826.0"
      ]
     },
     "execution_count": 57,
     "metadata": {},
     "output_type": "execute_result"
    }
   ],
   "source": [
    "my_circle.area"
   ]
  },
  {
   "cell_type": "code",
   "execution_count": 65,
   "id": "679a3c34",
   "metadata": {},
   "outputs": [
    {
     "name": "stdout",
     "output_type": "stream",
     "text": [
      "ANIMAL CREATED\n",
      "Dog Created\n"
     ]
    }
   ],
   "source": [
    "#INHERITANCE\n",
    "\n",
    "\n",
    "class Animal():\n",
    "    def __init__(self):\n",
    "        print(\"ANIMAL CREATED\")\n",
    "    def who_am_I(self):\n",
    "        print(\"I am animal\")\n",
    "    def eat(self):\n",
    "        print(\"I am Eating \")\n",
    "        \n",
    "        \n",
    "class Dog(Animal):\n",
    "    def __init__(self):\n",
    "        Animal.__init__(self)\n",
    "        print(\"Dog Created\")\n",
    "    def eat(self):\n",
    "        print(\"I am a dog and eating\")\n",
    "    def bark(self):\n",
    "        print(\"Woof!\")\n",
    "mydog = Dog()  \n",
    "    "
   ]
  },
  {
   "cell_type": "code",
   "execution_count": 86,
   "id": "6989bf40",
   "metadata": {},
   "outputs": [],
   "source": [
    "#POLYMORPHISM: MANY FORMS\n",
    "\n",
    "\n",
    "class Dog():\n",
    "    def __init__(self,name):\n",
    "        self.name = name\n",
    "    def speak(self):\n",
    "        return self.name + \" says Woof!\"\n",
    "    \n",
    "    \n",
    "\n",
    "\n",
    "\n"
   ]
  },
  {
   "cell_type": "code",
   "execution_count": 87,
   "id": "7434d863",
   "metadata": {},
   "outputs": [],
   "source": [
    "class Cat():\n",
    "    def __init__(self,name):\n",
    "        self.name = name\n",
    "    def speak(self):\n",
    "        return self.name + \" says Meow!\""
   ]
  },
  {
   "cell_type": "code",
   "execution_count": 88,
   "id": "1d04b1e2",
   "metadata": {},
   "outputs": [],
   "source": [
    "Doggy = Dog(\"Doggy\")\n",
    "Tom = Cat(\"Tom\")"
   ]
  },
  {
   "cell_type": "code",
   "execution_count": 90,
   "id": "b9e0288c",
   "metadata": {},
   "outputs": [
    {
     "name": "stdout",
     "output_type": "stream",
     "text": [
      "Doggy says Woof!\n",
      "Tom says Meow!\n"
     ]
    }
   ],
   "source": [
    "print(Doggy.speak())\n",
    "print(Tom.speak())"
   ]
  },
  {
   "cell_type": "code",
   "execution_count": null,
   "id": "6de1a303",
   "metadata": {},
   "outputs": [],
   "source": []
  }
 ],
 "metadata": {
  "kernelspec": {
   "display_name": "Python 3 (ipykernel)",
   "language": "python",
   "name": "python3"
  },
  "language_info": {
   "codemirror_mode": {
    "name": "ipython",
    "version": 3
   },
   "file_extension": ".py",
   "mimetype": "text/x-python",
   "name": "python",
   "nbconvert_exporter": "python",
   "pygments_lexer": "ipython3",
   "version": "3.10.2"
  }
 },
 "nbformat": 4,
 "nbformat_minor": 5
}
