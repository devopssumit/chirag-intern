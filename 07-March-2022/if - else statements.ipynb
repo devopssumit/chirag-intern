{
 "cells": [
  {
   "cell_type": "code",
   "execution_count": 4,
   "id": "37020d13",
   "metadata": {
    "scrolled": true
   },
   "outputs": [
    {
     "name": "stdout",
     "output_type": "stream",
     "text": [
      "what is your name\n",
      "mukesh\n",
      "you are not listed\n"
     ]
    }
   ],
   "source": [
    "print('what is your name')\n",
    "name1= str(input())\n",
    "if name1 == 'chirag':\n",
    "    print(\"hello this is chirag\")\n",
    "elif name1 =='naman':\n",
    "    print(\"Hello naman\")\n",
    "else:\n",
    "    print(\"you are not listed\")"
   ]
  },
  {
   "cell_type": "code",
   "execution_count": 5,
   "id": "68657b9d",
   "metadata": {},
   "outputs": [
    {
     "name": "stdout",
     "output_type": "stream",
     "text": [
      "Chirag is not hungry\n"
     ]
    }
   ],
   "source": [
    "hungry = False\n",
    "if hungry==True:\n",
    "    print('Chirag is hungry')\n",
    "else:\n",
    "    print(\"Chirag is not hungry\")\n",
    "    "
   ]
  },
  {
   "cell_type": "code",
   "execution_count": 6,
   "id": "a717ba66",
   "metadata": {},
   "outputs": [
    {
     "name": "stdout",
     "output_type": "stream",
     "text": [
      "I do not know much\n"
     ]
    }
   ],
   "source": [
    "loc = \"bank\"\n",
    "if loc == \"auto shop\":\n",
    "    print(\"Cars are cool!\")\n",
    "else:\n",
    "    print('I do not know much')"
   ]
  },
  {
   "cell_type": "code",
   "execution_count": 7,
   "id": "2d7cf6fb",
   "metadata": {},
   "outputs": [
    {
     "name": "stdout",
     "output_type": "stream",
     "text": [
      "Chirag\n"
     ]
    }
   ],
   "source": [
    "var1= 'Chirag'\n",
    "print(var1)"
   ]
  },
  {
   "cell_type": "code",
   "execution_count": null,
   "id": "b2a13bfb",
   "metadata": {},
   "outputs": [],
   "source": [
    "var1 = 'age'\n",
    "age = 25\n",
    "print('My age is ',age)"
   ]
  }
 ],
 "metadata": {
  "kernelspec": {
   "display_name": "Python 3 (ipykernel)",
   "language": "python",
   "name": "python3"
  },
  "language_info": {
   "codemirror_mode": {
    "name": "ipython",
    "version": 3
   },
   "file_extension": ".py",
   "mimetype": "text/x-python",
   "name": "python",
   "nbconvert_exporter": "python",
   "pygments_lexer": "ipython3",
   "version": "3.10.2"
  }
 },
 "nbformat": 4,
 "nbformat_minor": 5
}
