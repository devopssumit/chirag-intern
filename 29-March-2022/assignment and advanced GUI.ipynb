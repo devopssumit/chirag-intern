{
 "cells": [
  {
   "cell_type": "code",
   "execution_count": 16,
   "id": "4f73f1e2",
   "metadata": {},
   "outputs": [
    {
     "data": {
      "application/vnd.jupyter.widget-view+json": {
       "model_id": "f1bdaf3a3f42459bbb0da03bc9650021",
       "version_major": 2,
       "version_minor": 0
      },
      "text/plain": [
       "Button(button_style='info', description='Ordinary Button', style=ButtonStyle())"
      ]
     },
     "metadata": {},
     "output_type": "display_data"
    }
   ],
   "source": [
    "import ipywidgets as widgets\n",
    "from IPython.display import display\n",
    "\n",
    "\n",
    "\n",
    "widgets.Button(description = \"Ordinary Button\",button_style='info')"
   ]
  },
  {
   "cell_type": "code",
   "execution_count": null,
   "id": "9d5c8deb",
   "metadata": {},
   "outputs": [],
   "source": []
  },
  {
   "cell_type": "code",
   "execution_count": 17,
   "id": "cb7946f7",
   "metadata": {},
   "outputs": [
    {
     "data": {
      "application/vnd.jupyter.widget-view+json": {
       "model_id": "6d9eb6489dc84a2481655ac52d4cb47f",
       "version_major": 2,
       "version_minor": 0
      },
      "text/plain": [
       "Button(button_style='info', description='Description Button', style=ButtonStyle())"
      ]
     },
     "metadata": {},
     "output_type": "display_data"
    }
   ],
   "source": [
    "import ipywidgets as widgets\n",
    "\n",
    "\n",
    "\n",
    "widgets.Button(description = \"Description Button\",button_style='info')"
   ]
  },
  {
   "cell_type": "code",
   "execution_count": 19,
   "id": "dfac5bf7",
   "metadata": {},
   "outputs": [
    {
     "data": {
      "application/vnd.jupyter.widget-view+json": {
       "model_id": "e68a502c0e7d49829784005cdd42e2f8",
       "version_major": 2,
       "version_minor": 0
      },
      "text/plain": [
       "Button(description='Custom Color', style=ButtonStyle(button_color='lightgreen'))"
      ]
     },
     "metadata": {},
     "output_type": "display_data"
    }
   ],
   "source": [
    "b1 = widgets.Button(description= 'Custom Color')\n",
    "b1.style.button_color = 'lightgreen' \n",
    "b1"
   ]
  },
  {
   "cell_type": "code",
   "execution_count": 23,
   "id": "1ddd59fb",
   "metadata": {},
   "outputs": [
    {
     "data": {
      "application/vnd.jupyter.widget-view+json": {
       "model_id": "f39ad4795314494b99d895a4fc65ad1a",
       "version_major": 2,
       "version_minor": 0
      },
      "text/plain": [
       "Button(description='Custom Color', style=ButtonStyle(button_color='pink'))"
      ]
     },
     "metadata": {},
     "output_type": "display_data"
    }
   ],
   "source": [
    "b2 = widgets.Button(description= 'Custom Color')\n",
    "b2.style.button_color = 'pink' \n",
    "b2"
   ]
  },
  {
   "cell_type": "code",
   "execution_count": null,
   "id": "459f470c",
   "metadata": {},
   "outputs": [],
   "source": []
  },
  {
   "cell_type": "code",
   "execution_count": null,
   "id": "a585f92c",
   "metadata": {},
   "outputs": [],
   "source": []
  },
  {
   "cell_type": "code",
   "execution_count": null,
   "id": "54bf60f3",
   "metadata": {},
   "outputs": [],
   "source": []
  },
  {
   "cell_type": "code",
   "execution_count": null,
   "id": "8ed50199",
   "metadata": {},
   "outputs": [],
   "source": []
  },
  {
   "cell_type": "code",
   "execution_count": 3,
   "id": "6f0853cf",
   "metadata": {},
   "outputs": [
    {
     "data": {
      "text/plain": [
       "[('dave', 'joshi', 10), ('jane', 'Brain', 12), ('john', 'Aby', 15)]"
      ]
     },
     "execution_count": 3,
     "metadata": {},
     "output_type": "execute_result"
    }
   ],
   "source": [
    "from datetime import datetime, date\n",
    "\n",
    "\n",
    "class Person:\n",
    "    \n",
    "    def __init__(self, First_name, Last_name, age):\n",
    "        self.First_name = First_name\n",
    "        self.Last_name = Last_name\n",
    "        self.age = age\n",
    "    def __repr__(self):\n",
    "        return repr((self.First_name, self.Last_name, self.age))\n",
    "\n",
    "person_objects = [Person('john', 'Aby', 15),Person('jane', 'Brain', 12),Person('dave', 'joshi', 10)]\n",
    "\n",
    "\n",
    "sorted(person_objects, key=lambda person: person.age)\n",
    "\n",
    "\n",
    "\n",
    "\n",
    "class Time:\n",
    "    def __init__(self, date):\n",
    "        self.date=date\n",
    "\n",
    "    def calculate_age(self):\n",
    "        today = datetime.now()\n",
    "        return today.year - self.date.year - ((today.month, today.day) < (self.date.month, self.date.day))\n",
    "\n",
    "#time = Time(date(1994,4,12))\n",
    "\n",
    "#print(time.calculate_age())"
   ]
  },
  {
   "cell_type": "code",
   "execution_count": 25,
   "id": "fbdc3447",
   "metadata": {},
   "outputs": [
    {
     "name": "stdout",
     "output_type": "stream",
     "text": [
      "<class 'list'>\n",
      "[<__main__.Person object at 0x00000230CE49F040>, <__main__.Person object at 0x00000230CE49F130>, <__main__.Person object at 0x00000230CE49F0A0>]\n"
     ]
    },
    {
     "ename": "NameError",
     "evalue": "name 'operator' is not defined",
     "output_type": "error",
     "traceback": [
      "\u001b[1;31m---------------------------------------------------------------------------\u001b[0m",
      "\u001b[1;31mNameError\u001b[0m                                 Traceback (most recent call last)",
      "Input \u001b[1;32mIn [25]\u001b[0m, in \u001b[0;36m<cell line: 159>\u001b[1;34m()\u001b[0m\n\u001b[0;32m    133\u001b[0m \u001b[38;5;66;03m# sort_person = Sort_Person(person_list)\u001b[39;00m\n\u001b[0;32m    134\u001b[0m \u001b[38;5;66;03m# print(\"before sorting\")\u001b[39;00m\n\u001b[0;32m    135\u001b[0m \u001b[38;5;66;03m# print(sort_person)\u001b[39;00m\n\u001b[1;32m   (...)\u001b[0m\n\u001b[0;32m    155\u001b[0m \u001b[38;5;66;03m# # print(sort_first_name)\u001b[39;00m\n\u001b[0;32m    156\u001b[0m \u001b[38;5;66;03m# # print(sorted(p,reverse=True))\u001b[39;00m\n\u001b[0;32m    158\u001b[0m \u001b[38;5;28mprint\u001b[39m(\u001b[38;5;28msorted\u001b[39m(person_list))\n\u001b[1;32m--> 159\u001b[0m \u001b[38;5;28mprint\u001b[39m(\u001b[38;5;28msorted\u001b[39m(person_list, key\u001b[38;5;241m=\u001b[39m\u001b[43moperator\u001b[49m\u001b[38;5;241m.\u001b[39mattrgetter(\u001b[38;5;124m\"\u001b[39m\u001b[38;5;124mfirst_name\u001b[39m\u001b[38;5;124m\"\u001b[39m)))\n",
      "\u001b[1;31mNameError\u001b[0m: name 'operator' is not defined"
     ]
    }
   ],
   "source": [
    "#person class\n",
    "\n",
    "\n",
    "from datetime import date, timedelta\n",
    "\n",
    "\n",
    "class Person:\n",
    "    def __init__(self, first_name, last_name, date_of_birth):\n",
    "\n",
    "        self.first_name = first_name\n",
    "        self.last_name = last_name\n",
    "        self.date_of_birth = date_of_birth\n",
    "        self.age = self.Calculate_Age()\n",
    "\n",
    "    def __str__(self):\n",
    "        return self.first_name\n",
    "        # return f\" My name is {self.first_name} {self.last_name} and date of birth year is {self.date_of_birth} and age is {self.age}\"\n",
    "\n",
    "    def Calculate_Age(self):\n",
    "        # timedelta(days=365.2425)\n",
    "        age = (date.today().year - self.date_of_birth)\n",
    "        return age\n",
    "\n",
    "    def __lt__(self, other):\n",
    "        return (self.age < other.age)\n",
    "\n",
    "    def __lt__(self, other):\n",
    "        return (self.age < other.age)\n",
    "\n",
    "    def __le__(self, other):\n",
    "        return (self.age <= other.age)\n",
    "\n",
    "    def __eq__(self, other):\n",
    "        return (self.age == other.age)\n",
    "\n",
    "    def __ne__(self, other):\n",
    "        return (self.age != other.age)\n",
    "\n",
    "    def __gt__(self, other):\n",
    "        return (self.age > other.age)\n",
    "\n",
    "    def __ge__(self, other):\n",
    "        return (self.age >= other.age)\n",
    "\n",
    "\n",
    "class Sort_Person(Person):\n",
    "\n",
    "    def __init__(self, person_list):\n",
    "        #super().__init__(first_name, last_name, date_of_birth)\n",
    "        self.person_list = person_list\n",
    "\n",
    "    def get_person_by_first_name(self, first_name):\n",
    "        for person in self.person_list:\n",
    "            if person.first_name == first_name:\n",
    "                return person\n",
    "        return None\n",
    "\n",
    "    def __str__(self):\n",
    "        my_str = \"\"\n",
    "        print(self.person_list)\n",
    "        for person in self.person_list:\n",
    "            my_str = my_str + str(person) + \"\\n\"\n",
    "        return my_str\n",
    "\n",
    "    def Sort_By_First_Name_Ascending(self):\n",
    "        list_name = []\n",
    "        sorted_person = []\n",
    "        for person in self.person_list:\n",
    "            list_name.append(person.first_name)\n",
    "        list_name.sort()\n",
    "        #self.person_list = list_name\n",
    "\n",
    "        for first_name in list_name:\n",
    "            # print(self.get_person_by_first_name(first_name))\n",
    "            sorted_person.append(self.get_person_by_first_name(first_name))\n",
    "\n",
    "        self.person_list = sorted_person\n",
    "        return None\n",
    "\n",
    "    def Sort_By_Last_Name_Ascending(self):\n",
    "        list_name = []\n",
    "        sorted_person = []\n",
    "        for person in self.person_list:\n",
    "            list_name.append(person.first_name)\n",
    "        list_name.sort()\n",
    "        self.person_list = list_name\n",
    "\n",
    "    def Sort_By_First_Name_Descending(self):\n",
    "        list_name = []\n",
    "        sorted_person = []\n",
    "        for person in self.person_list:\n",
    "            list_name.append(person.first_name)\n",
    "        list_name.sort(reverse=True)\n",
    "        self.person_list = list_name\n",
    "\n",
    "    def Sort_By_Last_Name_Descending(self):\n",
    "        list_name = []\n",
    "        sorted_person = []\n",
    "        for person in self.person_list:\n",
    "            print(person)\n",
    "            list_name.append(person.last_name)\n",
    "        list_name.sort(reverse=True)\n",
    "        self.person_list = list_name\n",
    "\n",
    "    def Sort_By_Age_Ascending(self):\n",
    "        list_age = []\n",
    "        sorted_person = []\n",
    "        # for person in self.person_list:\n",
    "        # int1 = person.age\n",
    "        # print(\"Abu \", int1)\n",
    "        # age1 = Person.Calculate_Age(int1)\n",
    "\n",
    "        # list_age.append(person.age)\n",
    "\n",
    "        # list_age.sort()\n",
    "\n",
    "        self.person_list.sort()\n",
    "\n",
    "    def Sort_By_Age_Descending(self):\n",
    "        list_age = []\n",
    "        for person in self.person_list:\n",
    "            list_age.append(person.age)\n",
    "        list_age.sort(reverse=True)\n",
    "        self.person_list = list_age\n",
    "\n",
    "\n",
    "p1 = Person('yash', 'mishra', 2000)\n",
    "p2 = Person('parag', 'gunjal', 1991)\n",
    "p3 = Person('abrar', 'mahadevi', 1996)\n",
    "person_list = []\n",
    "person_list.append(p1)\n",
    "person_list.append(p2)\n",
    "person_list.append(p3)\n",
    "print(type(person_list))\n",
    "\n",
    "# sort_person = Sort_Person(person_list)\n",
    "# print(\"before sorting\")\n",
    "# print(sort_person)\n",
    "\n",
    "\n",
    "# # print(\"after sorting by first name\")\n",
    "# # sort_person.Sort_By_First_Name_Ascending()\n",
    "# # print(sort_person)\n",
    "\n",
    "# print(\"Sorting by age: \")\n",
    "# sort_person.Sort_By_Age_Ascending()\n",
    "# print(sort_person)\n",
    "\n",
    "\n",
    "# print(sort_person.person_list)\n",
    "\n",
    "# print(\"after sorting by last name\")\n",
    "# sort_person.Sort_By_Last_Name_Descending()\n",
    "# print(sort_person)\n",
    "\n",
    "\n",
    "# # sort_first_name = sorted(p, key=lambda p: p.first_name)\n",
    "# # print(sort_first_name)\n",
    "# # print(sorted(p,reverse=True))\n",
    "\n",
    "print(sorted(person_list))\n",
    "print(sorted(person_list, key=operator.attrgetter(\"first_name\")))\n"
   ]
  },
  {
   "cell_type": "code",
   "execution_count": null,
   "id": "229ff88e",
   "metadata": {},
   "outputs": [],
   "source": []
  }
 ],
 "metadata": {
  "kernelspec": {
   "display_name": "Python 3 (ipykernel)",
   "language": "python",
   "name": "python3"
  },
  "language_info": {
   "codemirror_mode": {
    "name": "ipython",
    "version": 3
   },
   "file_extension": ".py",
   "mimetype": "text/x-python",
   "name": "python",
   "nbconvert_exporter": "python",
   "pygments_lexer": "ipython3",
   "version": "3.10.2"
  }
 },
 "nbformat": 4,
 "nbformat_minor": 5
}
